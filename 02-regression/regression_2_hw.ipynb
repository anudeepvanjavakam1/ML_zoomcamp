{
 "cells": [
  {
   "cell_type": "markdown",
   "metadata": {},
   "source": [
    "### The goal is to create a regression model for predicting housing prices"
   ]
  },
  {
   "cell_type": "code",
   "execution_count": 1,
   "metadata": {},
   "outputs": [],
   "source": [
    "# loading essential packages\n",
    "import numpy as np\n",
    "import pandas as pd\n",
    "import wget\n",
    "\n",
    "# loading visualization packages\n",
    "from matplotlib import pyplot as plt\n",
    "import seaborn as sns\n",
    "%matplotlib inline"
   ]
  },
  {
   "cell_type": "markdown",
   "metadata": {},
   "source": [
    "### Dowloading and taking a quick look at the dataset"
   ]
  },
  {
   "cell_type": "code",
   "execution_count": 2,
   "metadata": {},
   "outputs": [
    {
     "data": {
      "text/plain": [
       "'housing (3).csv'"
      ]
     },
     "execution_count": 2,
     "metadata": {},
     "output_type": "execute_result"
    }
   ],
   "source": [
    "\n",
    "data = \"https://raw.githubusercontent.com/alexeygrigorev/datasets/master/housing.csv\"\n",
    "wget.download(data)\n"
   ]
  },
  {
   "cell_type": "code",
   "execution_count": 3,
   "metadata": {},
   "outputs": [
    {
     "data": {
      "text/html": [
       "<div>\n",
       "<style scoped>\n",
       "    .dataframe tbody tr th:only-of-type {\n",
       "        vertical-align: middle;\n",
       "    }\n",
       "\n",
       "    .dataframe tbody tr th {\n",
       "        vertical-align: top;\n",
       "    }\n",
       "\n",
       "    .dataframe thead th {\n",
       "        text-align: right;\n",
       "    }\n",
       "</style>\n",
       "<table border=\"1\" class=\"dataframe\">\n",
       "  <thead>\n",
       "    <tr style=\"text-align: right;\">\n",
       "      <th></th>\n",
       "      <th>longitude</th>\n",
       "      <th>latitude</th>\n",
       "      <th>housing_median_age</th>\n",
       "      <th>total_rooms</th>\n",
       "      <th>total_bedrooms</th>\n",
       "      <th>population</th>\n",
       "      <th>households</th>\n",
       "      <th>median_income</th>\n",
       "      <th>median_house_value</th>\n",
       "      <th>ocean_proximity</th>\n",
       "    </tr>\n",
       "  </thead>\n",
       "  <tbody>\n",
       "    <tr>\n",
       "      <th>0</th>\n",
       "      <td>-122.23</td>\n",
       "      <td>37.88</td>\n",
       "      <td>41.0</td>\n",
       "      <td>880.0</td>\n",
       "      <td>129.0</td>\n",
       "      <td>322.0</td>\n",
       "      <td>126.0</td>\n",
       "      <td>8.3252</td>\n",
       "      <td>452600.0</td>\n",
       "      <td>NEAR BAY</td>\n",
       "    </tr>\n",
       "    <tr>\n",
       "      <th>1</th>\n",
       "      <td>-122.22</td>\n",
       "      <td>37.86</td>\n",
       "      <td>21.0</td>\n",
       "      <td>7099.0</td>\n",
       "      <td>1106.0</td>\n",
       "      <td>2401.0</td>\n",
       "      <td>1138.0</td>\n",
       "      <td>8.3014</td>\n",
       "      <td>358500.0</td>\n",
       "      <td>NEAR BAY</td>\n",
       "    </tr>\n",
       "    <tr>\n",
       "      <th>2</th>\n",
       "      <td>-122.24</td>\n",
       "      <td>37.85</td>\n",
       "      <td>52.0</td>\n",
       "      <td>1467.0</td>\n",
       "      <td>190.0</td>\n",
       "      <td>496.0</td>\n",
       "      <td>177.0</td>\n",
       "      <td>7.2574</td>\n",
       "      <td>352100.0</td>\n",
       "      <td>NEAR BAY</td>\n",
       "    </tr>\n",
       "    <tr>\n",
       "      <th>3</th>\n",
       "      <td>-122.25</td>\n",
       "      <td>37.85</td>\n",
       "      <td>52.0</td>\n",
       "      <td>1274.0</td>\n",
       "      <td>235.0</td>\n",
       "      <td>558.0</td>\n",
       "      <td>219.0</td>\n",
       "      <td>5.6431</td>\n",
       "      <td>341300.0</td>\n",
       "      <td>NEAR BAY</td>\n",
       "    </tr>\n",
       "    <tr>\n",
       "      <th>4</th>\n",
       "      <td>-122.25</td>\n",
       "      <td>37.85</td>\n",
       "      <td>52.0</td>\n",
       "      <td>1627.0</td>\n",
       "      <td>280.0</td>\n",
       "      <td>565.0</td>\n",
       "      <td>259.0</td>\n",
       "      <td>3.8462</td>\n",
       "      <td>342200.0</td>\n",
       "      <td>NEAR BAY</td>\n",
       "    </tr>\n",
       "  </tbody>\n",
       "</table>\n",
       "</div>"
      ],
      "text/plain": [
       "   longitude  latitude  housing_median_age  total_rooms  total_bedrooms  \\\n",
       "0    -122.23     37.88                41.0        880.0           129.0   \n",
       "1    -122.22     37.86                21.0       7099.0          1106.0   \n",
       "2    -122.24     37.85                52.0       1467.0           190.0   \n",
       "3    -122.25     37.85                52.0       1274.0           235.0   \n",
       "4    -122.25     37.85                52.0       1627.0           280.0   \n",
       "\n",
       "   population  households  median_income  median_house_value ocean_proximity  \n",
       "0       322.0       126.0         8.3252            452600.0        NEAR BAY  \n",
       "1      2401.0      1138.0         8.3014            358500.0        NEAR BAY  \n",
       "2       496.0       177.0         7.2574            352100.0        NEAR BAY  \n",
       "3       558.0       219.0         5.6431            341300.0        NEAR BAY  \n",
       "4       565.0       259.0         3.8462            342200.0        NEAR BAY  "
      ]
     },
     "execution_count": 3,
     "metadata": {},
     "output_type": "execute_result"
    }
   ],
   "source": [
    "# Reading the dataset\n",
    "df = pd.read_csv(\"housing.csv\")\n",
    "df.head()"
   ]
  },
  {
   "cell_type": "code",
   "execution_count": 4,
   "metadata": {},
   "outputs": [
    {
     "data": {
      "text/plain": [
       "<Axes: xlabel='median_house_value', ylabel='Count'>"
      ]
     },
     "execution_count": 4,
     "metadata": {},
     "output_type": "execute_result"
    },
    {
     "data": {
      "image/png": "[encoded data removed]",
      "text/plain": [
       "<Figure size 640x480 with 1 Axes>"
      ]
     },
     "metadata": {},
     "output_type": "display_data"
    }
   ],
   "source": [
    "sns.histplot(df.median_house_value, bins = 100)"
   ]
  },
  {
   "cell_type": "markdown",
   "metadata": {},
   "source": [
    "We can see it is right-skewed and has a long tail"
   ]
  },
  {
   "cell_type": "code",
   "execution_count": 5,
   "metadata": {},
   "outputs": [
    {
     "data": {
      "text/plain": [
       "array(['NEAR BAY', '<1H OCEAN', 'INLAND', 'NEAR OCEAN', 'ISLAND'],\n",
       "      dtype=object)"
      ]
     },
     "execution_count": 5,
     "metadata": {},
     "output_type": "execute_result"
    }
   ],
   "source": [
    "df.ocean_proximity.unique()"
   ]
  },
  {
   "cell_type": "markdown",
   "metadata": {},
   "source": [
    "Let's look at only INLAND and <1H OCEAN houses"
   ]
  },
  {
   "cell_type": "code",
   "execution_count": 6,
   "metadata": {},
   "outputs": [
    {
     "data": {
      "text/plain": [
       "array(['<1H OCEAN', 'INLAND'], dtype=object)"
      ]
     },
     "execution_count": 6,
     "metadata": {},
     "output_type": "execute_result"
    }
   ],
   "source": [
    "df = df[df.ocean_proximity.isin([\"INLAND\",\"<1H OCEAN\"])]\n",
    "df.ocean_proximity.unique()"
   ]
  },
  {
   "cell_type": "code",
   "execution_count": 7,
   "metadata": {},
   "outputs": [
    {
     "data": {
      "text/html": [
       "<div>\n",
       "<style scoped>\n",
       "    .dataframe tbody tr th:only-of-type {\n",
       "        vertical-align: middle;\n",
       "    }\n",
       "\n",
       "    .dataframe tbody tr th {\n",
       "        vertical-align: top;\n",
       "    }\n",
       "\n",
       "    .dataframe thead th {\n",
       "        text-align: right;\n",
       "    }\n",
       "</style>\n",
       "<table border=\"1\" class=\"dataframe\">\n",
       "  <thead>\n",
       "    <tr style=\"text-align: right;\">\n",
       "      <th></th>\n",
       "      <th>longitude</th>\n",
       "      <th>latitude</th>\n",
       "      <th>housing_median_age</th>\n",
       "      <th>total_rooms</th>\n",
       "      <th>total_bedrooms</th>\n",
       "      <th>population</th>\n",
       "      <th>households</th>\n",
       "      <th>median_income</th>\n",
       "      <th>median_house_value</th>\n",
       "    </tr>\n",
       "  </thead>\n",
       "  <tbody>\n",
       "    <tr>\n",
       "      <th>701</th>\n",
       "      <td>-121.97</td>\n",
       "      <td>37.64</td>\n",
       "      <td>32.0</td>\n",
       "      <td>1283.0</td>\n",
       "      <td>194.0</td>\n",
       "      <td>485.0</td>\n",
       "      <td>171.0</td>\n",
       "      <td>6.0574</td>\n",
       "      <td>431000.0</td>\n",
       "    </tr>\n",
       "    <tr>\n",
       "      <th>830</th>\n",
       "      <td>-121.99</td>\n",
       "      <td>37.61</td>\n",
       "      <td>9.0</td>\n",
       "      <td>3666.0</td>\n",
       "      <td>711.0</td>\n",
       "      <td>2341.0</td>\n",
       "      <td>703.0</td>\n",
       "      <td>4.6458</td>\n",
       "      <td>217000.0</td>\n",
       "    </tr>\n",
       "    <tr>\n",
       "      <th>859</th>\n",
       "      <td>-121.97</td>\n",
       "      <td>37.57</td>\n",
       "      <td>21.0</td>\n",
       "      <td>4342.0</td>\n",
       "      <td>783.0</td>\n",
       "      <td>2172.0</td>\n",
       "      <td>789.0</td>\n",
       "      <td>4.6146</td>\n",
       "      <td>247600.0</td>\n",
       "    </tr>\n",
       "    <tr>\n",
       "      <th>860</th>\n",
       "      <td>-121.96</td>\n",
       "      <td>37.58</td>\n",
       "      <td>15.0</td>\n",
       "      <td>3575.0</td>\n",
       "      <td>597.0</td>\n",
       "      <td>1777.0</td>\n",
       "      <td>559.0</td>\n",
       "      <td>5.7192</td>\n",
       "      <td>283500.0</td>\n",
       "    </tr>\n",
       "    <tr>\n",
       "      <th>861</th>\n",
       "      <td>-121.98</td>\n",
       "      <td>37.58</td>\n",
       "      <td>20.0</td>\n",
       "      <td>4126.0</td>\n",
       "      <td>1031.0</td>\n",
       "      <td>2079.0</td>\n",
       "      <td>975.0</td>\n",
       "      <td>3.6832</td>\n",
       "      <td>216900.0</td>\n",
       "    </tr>\n",
       "  </tbody>\n",
       "</table>\n",
       "</div>"
      ],
      "text/plain": [
       "     longitude  latitude  housing_median_age  total_rooms  total_bedrooms  \\\n",
       "701    -121.97     37.64                32.0       1283.0           194.0   \n",
       "830    -121.99     37.61                 9.0       3666.0           711.0   \n",
       "859    -121.97     37.57                21.0       4342.0           783.0   \n",
       "860    -121.96     37.58                15.0       3575.0           597.0   \n",
       "861    -121.98     37.58                20.0       4126.0          1031.0   \n",
       "\n",
       "     population  households  median_income  median_house_value  \n",
       "701       485.0       171.0         6.0574            431000.0  \n",
       "830      2341.0       703.0         4.6458            217000.0  \n",
       "859      2172.0       789.0         4.6146            247600.0  \n",
       "860      1777.0       559.0         5.7192            283500.0  \n",
       "861      2079.0       975.0         3.6832            216900.0  "
      ]
     },
     "execution_count": 7,
     "metadata": {},
     "output_type": "execute_result"
    }
   ],
   "source": [
    "# Include all columns except for ocean proximity\n",
    "df.drop(columns=['ocean_proximity'], inplace=True)\n",
    "df.head()\n"
   ]
  },
  {
   "cell_type": "markdown",
   "metadata": {},
   "source": [
    "Look at missing values"
   ]
  },
  {
   "cell_type": "code",
   "execution_count": 8,
   "metadata": {},
   "outputs": [
    {
     "data": {
      "text/plain": [
       "longitude               0\n",
       "latitude                0\n",
       "housing_median_age      0\n",
       "total_rooms             0\n",
       "total_bedrooms        157\n",
       "population              0\n",
       "households              0\n",
       "median_income           0\n",
       "median_house_value      0\n",
       "dtype: int64"
      ]
     },
     "execution_count": 8,
     "metadata": {},
     "output_type": "execute_result"
    }
   ],
   "source": [
    "df.isnull().sum()"
   ]
  },
  {
   "cell_type": "markdown",
   "metadata": {},
   "source": [
    "total_bedrooms has 157 missing values while the rest of the columns do not have any\n"
   ]
  },
  {
   "cell_type": "code",
   "execution_count": 9,
   "metadata": {},
   "outputs": [
    {
     "data": {
      "text/plain": [
       "1195.0"
      ]
     },
     "execution_count": 9,
     "metadata": {},
     "output_type": "execute_result"
    }
   ],
   "source": [
    "# median (50th percentile) for population\n",
    "df.population.median()"
   ]
  },
  {
   "cell_type": "markdown",
   "metadata": {},
   "source": [
    "### Data Preparation - Shuffling, splitting dataset, transforming target variable, dealing with missing values"
   ]
  },
  {
   "cell_type": "code",
   "execution_count": 10,
   "metadata": {},
   "outputs": [],
   "source": [
    "# data preparation before fitting a linear regression\n",
    "def prepare_X_y(df, fill_na_with_mean = False, seed = 42):\n",
    "\n",
    "    # shuffling based on seed choice\n",
    "    df = df.sample(frac=1, random_state=seed)\n",
    "\n",
    "    # splitting dataset into train, validation and test sets\n",
    "    df_train, df_val, df_test = np.split(df, [int(0.6*len(df)), int(0.8*(len(df)))])\n",
    "\n",
    "    # transforming target variable using log to avoid skewed distribution\n",
    "    df_train.median_house_value = np.log1p(df_train.median_house_value)\n",
    "    df_val.median_house_value = np.log1p(df_val.median_house_value)\n",
    "    df_test.median_house_value = np.log1p(df_test.median_house_value)\n",
    "    \n",
    "    # filling missing values with mean or zero\n",
    "    if fill_na_with_mean:\n",
    "        # calculating average total bedrooms from train data\n",
    "        fill_value = df_train.total_bedrooms.mean()\n",
    "    else:\n",
    "        fill_value = 0\n",
    "    \n",
    "        \n",
    "    df_train.total_bedrooms.fillna(fill_value, inplace=True)\n",
    "    df_val.total_bedrooms.fillna(fill_value, inplace=True)\n",
    "    df_test.total_bedrooms.fillna(fill_value, inplace=True)\n",
    "\n",
    "    x_train = df_train.loc[:, df_train.columns != 'median_house_value'].values\n",
    "    y_train = df_train['median_house_value'].values\n",
    "\n",
    "    x_val = df_val.loc[:, df_val.columns != 'median_house_value'].values\n",
    "    y_val = df_val['median_house_value'].values\n",
    "\n",
    "    x_test = df_test.loc[:, df_test.columns != 'median_house_value'].values\n",
    "    y_test = df_test['median_house_value'].values\n",
    "\n",
    "    return x_train, y_train, x_val, y_val, x_test, y_test\n"
   ]
  },
  {
   "cell_type": "markdown",
   "metadata": {},
   "source": [
    "### Filling missing values with zero"
   ]
  },
  {
   "cell_type": "code",
   "execution_count": 11,
   "metadata": {},
   "outputs": [
    {
     "data": {
      "text/plain": [
       "(9412, 9412, 3137, 3137, 3138, 3138)"
      ]
     },
     "execution_count": 11,
     "metadata": {},
     "output_type": "execute_result"
    }
   ],
   "source": [
    "x_train, y_train, x_val, y_val, x_test, y_test = prepare_X_y(df, fill_na_with_mean=False, seed = 42)\n",
    "len(x_train), len(y_train), len(x_val), len(y_val), len(x_test), len(y_test)"
   ]
  },
  {
   "cell_type": "markdown",
   "metadata": {},
   "source": [
    "### Linear Regression Function"
   ]
  },
  {
   "cell_type": "code",
   "execution_count": 12,
   "metadata": {},
   "outputs": [],
   "source": [
    "def train_linear_regression(X, y, r=0.0):\n",
    "    \n",
    "    # stacking 1,1,1,1,.... before the features. This is for w0 (bias term).\n",
    "    ones = np.ones(X.shape[0])\n",
    "    X = np.column_stack([ones, X])\n",
    "\n",
    "    XTX = X.T.dot(X)\n",
    "    reg = r * np.eye(XTX.shape[0])\n",
    "    XTX = XTX + reg\n",
    "    \n",
    "    XTX_inv = np.linalg.inv(XTX)\n",
    "    w = XTX_inv.dot(X.T).dot(y)\n",
    "\n",
    "    return w[0], w[1:]"
   ]
  },
  {
   "cell_type": "markdown",
   "metadata": {},
   "source": [
    "### Training without regularization"
   ]
  },
  {
   "cell_type": "code",
   "execution_count": 13,
   "metadata": {},
   "outputs": [
    {
     "data": {
      "text/plain": [
       "(-9.760282389232469,\n",
       " array([-2.55894354e-01, -2.68175850e-01,  1.78278062e-03, -3.37898192e-05,\n",
       "         2.93842680e-04, -1.52111419e-04,  3.96416869e-04,  1.80614799e-01]))"
      ]
     },
     "execution_count": 13,
     "metadata": {},
     "output_type": "execute_result"
    }
   ],
   "source": [
    "# get weights\n",
    "w0, w = train_linear_regression(x_train, y_train)\n",
    "w0, w"
   ]
  },
  {
   "cell_type": "code",
   "execution_count": 14,
   "metadata": {},
   "outputs": [
    {
     "data": {
      "text/plain": [
       "array([11.48901068, 12.1484566 , 12.45850232, ..., 11.44249195,\n",
       "       12.91341245, 11.93071785])"
      ]
     },
     "execution_count": 14,
     "metadata": {},
     "output_type": "execute_result"
    }
   ],
   "source": [
    "# get predictions when missing values were filled with 0\n",
    "y_pred_0 = w0 + x_train.dot(w)\n",
    "y_pred_0"
   ]
  },
  {
   "cell_type": "code",
   "execution_count": 15,
   "metadata": {},
   "outputs": [
    {
     "data": {
      "image/png": "[encoded data removed]",
      "text/plain": [
       "<Figure size 600x400 with 1 Axes>"
      ]
     },
     "metadata": {},
     "output_type": "display_data"
    }
   ],
   "source": [
    "plt.figure(figsize=(6, 4))\n",
    "\n",
    "sns.histplot(y_train, label='target', color='#222222', alpha=0.6, bins=40)\n",
    "sns.histplot(y_pred_0, label='prediction', color='#aaaaaa', alpha=0.8, bins=40)\n",
    "\n",
    "plt.legend()\n",
    "\n",
    "plt.ylabel('Frequency')\n",
    "plt.xlabel('Log(Price + 1)')\n",
    "plt.title('Predictions vs actual distribution')\n",
    "\n",
    "plt.show()"
   ]
  },
  {
   "cell_type": "markdown",
   "metadata": {},
   "source": [
    "### Defining evaluation metric RMSE"
   ]
  },
  {
   "cell_type": "code",
   "execution_count": 16,
   "metadata": {},
   "outputs": [],
   "source": [
    "def rmse(y, y_pred):\n",
    "    error = y_pred - y\n",
    "    mse = (error ** 2).mean()\n",
    "    return np.sqrt(mse)"
   ]
  },
  {
   "cell_type": "code",
   "execution_count": 17,
   "metadata": {},
   "outputs": [
    {
     "data": {
      "text/plain": [
       "0.34"
      ]
     },
     "execution_count": 17,
     "metadata": {},
     "output_type": "execute_result"
    }
   ],
   "source": [
    "# train error\n",
    "round(rmse(y_train, y_pred_0),2)"
   ]
  },
  {
   "cell_type": "code",
   "execution_count": 18,
   "metadata": {},
   "outputs": [
    {
     "data": {
      "text/plain": [
       "0.34"
      ]
     },
     "execution_count": 18,
     "metadata": {},
     "output_type": "execute_result"
    }
   ],
   "source": [
    "# get predictions when missing values were filled with 0\n",
    "y_pred_0 = w0 + x_val.dot(w)\n",
    "y_pred_0\n",
    "\n",
    "# validation set error\n",
    "rmse_0 = round(rmse(y_val, y_pred_0),2)\n",
    "rmse_0\n"
   ]
  },
  {
   "cell_type": "markdown",
   "metadata": {},
   "source": [
    "### Filling missing values with mean (total_bedrooms column)"
   ]
  },
  {
   "cell_type": "code",
   "execution_count": 19,
   "metadata": {},
   "outputs": [
    {
     "data": {
      "text/plain": [
       "(9412, 9412, 3137, 3137, 3138, 3138)"
      ]
     },
     "execution_count": 19,
     "metadata": {},
     "output_type": "execute_result"
    }
   ],
   "source": [
    "x_train, y_train, x_val, y_val, x_test, y_test = prepare_X_y(df, fill_na_with_mean=True, seed = 42)\n",
    "len(x_train), len(y_train), len(x_val), len(y_val), len(x_test), len(y_test)"
   ]
  },
  {
   "cell_type": "markdown",
   "metadata": {},
   "source": [
    "### Training without regularization"
   ]
  },
  {
   "cell_type": "code",
   "execution_count": 20,
   "metadata": {},
   "outputs": [
    {
     "data": {
      "text/plain": [
       "(-9.883233238575944,\n",
       " array([-2.56982380e-01, -2.68595357e-01,  1.80454530e-03, -3.87168461e-05,\n",
       "         3.78946613e-04, -1.49559864e-04,  3.24795612e-04,  1.81966411e-01]))"
      ]
     },
     "execution_count": 20,
     "metadata": {},
     "output_type": "execute_result"
    }
   ],
   "source": [
    "# get weights\n",
    "w0, w = train_linear_regression(x_train, y_train)\n",
    "w0, w\n"
   ]
  },
  {
   "cell_type": "code",
   "execution_count": 21,
   "metadata": {},
   "outputs": [
    {
     "data": {
      "text/plain": [
       "array([11.48147071, 12.14192732, 12.45145429, ..., 11.4390022 ,\n",
       "       12.9140339 , 11.93461481])"
      ]
     },
     "execution_count": 21,
     "metadata": {},
     "output_type": "execute_result"
    }
   ],
   "source": [
    "# get predictions when missing values were filled with 0\n",
    "y_pred_mean = w0 + x_train.dot(w)\n",
    "y_pred_mean"
   ]
  },
  {
   "cell_type": "code",
   "execution_count": 22,
   "metadata": {},
   "outputs": [
    {
     "data": {
      "text/plain": [
       "0.34"
      ]
     },
     "execution_count": 22,
     "metadata": {},
     "output_type": "execute_result"
    }
   ],
   "source": [
    "# train error\n",
    "round(rmse(y_train, y_pred_mean),2)"
   ]
  },
  {
   "cell_type": "code",
   "execution_count": 23,
   "metadata": {},
   "outputs": [
    {
     "data": {
      "text/plain": [
       "0.34"
      ]
     },
     "execution_count": 23,
     "metadata": {},
     "output_type": "execute_result"
    }
   ],
   "source": [
    "# get predictions when missing values were filled with mean\n",
    "y_pred_mean = w0 + x_val.dot(w)\n",
    "y_pred_mean\n",
    "\n",
    "# validation set error\n",
    "rmse_mean = round(rmse(y_val, y_pred_mean),2)\n",
    "rmse_mean"
   ]
  },
  {
   "cell_type": "markdown",
   "metadata": {},
   "source": [
    "Filling missing values with either 0 or mean in the dataset gives us the same RMSE"
   ]
  },
  {
   "cell_type": "markdown",
   "metadata": {},
   "source": [
    "### Regularized Linear Regression: Filling nas with 0"
   ]
  },
  {
   "cell_type": "code",
   "execution_count": 24,
   "metadata": {},
   "outputs": [
    {
     "data": {
      "text/plain": [
       "(9412, 9412, 3137, 3137, 3138, 3138)"
      ]
     },
     "execution_count": 24,
     "metadata": {},
     "output_type": "execute_result"
    }
   ],
   "source": [
    "x_train, y_train, x_val, y_val, x_test, y_test = prepare_X_y(df, fill_na_with_mean=False, seed = 42)\n",
    "len(x_train), len(y_train), len(x_val), len(y_val), len(x_test), len(y_test)"
   ]
  },
  {
   "cell_type": "code",
   "execution_count": 25,
   "metadata": {},
   "outputs": [
    {
     "name": "stdout",
     "output_type": "stream",
     "text": [
      "0 0.34\n",
      "1e-06 0.34\n",
      "0.0001 0.34\n",
      "0.001 0.34\n",
      "0.01 0.34\n",
      "0.1 0.34\n",
      "1 0.34\n",
      "5 0.35\n",
      "10 0.35\n"
     ]
    }
   ],
   "source": [
    "regularization_parameters = [0, 0.000001, 0.0001, 0.001, 0.01, 0.1, 1, 5, 10]\n",
    "\n",
    "for r in regularization_parameters:\n",
    "\n",
    "    # training with regularization\n",
    "    w0, w = train_linear_regression(x_train, y_train, r = r)\n",
    "\n",
    "    # get predictions\n",
    "    y_pred = w0 + x_val.dot(w)\n",
    "\n",
    "    # validation set error\n",
    "    rmse_mean = round(rmse(y_val, y_pred),2)\n",
    "\n",
    "    print(r, rmse_mean)\n"
   ]
  },
  {
   "cell_type": "markdown",
   "metadata": {},
   "source": [
    "### Training with different seeds, without regularization, filling nas with 0"
   ]
  },
  {
   "cell_type": "code",
   "execution_count": 26,
   "metadata": {},
   "outputs": [
    {
     "data": {
      "text/plain": [
       "[0.3377846115210822,\n",
       " 0.3378066543009298,\n",
       " 0.33846044731881775,\n",
       " 0.3320086319057813,\n",
       " 0.33944492069602683,\n",
       " 0.34337807814846283,\n",
       " 0.33853387112813416,\n",
       " 0.34814297152954615,\n",
       " 0.3512727798516247,\n",
       " 0.3341662373171238]"
      ]
     },
     "execution_count": 26,
     "metadata": {},
     "output_type": "execute_result"
    }
   ],
   "source": [
    "seed_values = [0, 1, 2, 3, 4, 5, 6, 7, 8, 9]\n",
    "rmse_results = []\n",
    "\n",
    "for value in seed_values:    \n",
    "\n",
    "    # shuffling and splitting, filling missing values with 0\n",
    "    x_train, y_train, x_val, y_val, x_test, y_test = prepare_X_y(df = df, fill_na_with_mean = False, seed = value)\n",
    "\n",
    "    # training without regularization\n",
    "    w0, w = train_linear_regression(x_train, y_train, r = 0)\n",
    "\n",
    "    # get predictions\n",
    "    y_pred = w0 + x_val.dot(w)\n",
    "\n",
    "    # validation set error\n",
    "    rmse_results.append(rmse(y_val, y_pred))\n",
    "\n",
    "rmse_results"
   ]
  },
  {
   "cell_type": "code",
   "execution_count": 27,
   "metadata": {},
   "outputs": [
    {
     "data": {
      "text/plain": [
       "0.006"
      ]
     },
     "execution_count": 27,
     "metadata": {},
     "output_type": "execute_result"
    }
   ],
   "source": [
    "round(np.std(rmse_results),3)"
   ]
  },
  {
   "cell_type": "markdown",
   "metadata": {},
   "source": [
    "### Combining train and validation sets"
   ]
  },
  {
   "cell_type": "code",
   "execution_count": 28,
   "metadata": {},
   "outputs": [
    {
     "data": {
      "text/plain": [
       "array([[-1.1705e+02,  3.2820e+01,  1.6000e+01, ...,  1.6840e+03,\n",
       "         7.0100e+02,  4.2312e+00],\n",
       "       [-1.1800e+02,  3.3910e+01,  1.9000e+01, ...,  2.3740e+03,\n",
       "         7.5300e+02,  5.9790e+00],\n",
       "       [-1.2196e+02,  3.7250e+01,  3.5000e+01, ...,  4.8400e+02,\n",
       "         1.7400e+02,  6.1648e+00],\n",
       "       ...,\n",
       "       [-1.1825e+02,  3.3930e+01,  4.2000e+01, ...,  7.5400e+02,\n",
       "         1.7400e+02,  2.0486e+00],\n",
       "       [-1.1699e+02,  3.2850e+01,  3.2000e+01, ...,  3.0250e+03,\n",
       "         9.4800e+02,  4.0931e+00],\n",
       "       [-1.2268e+02,  3.8480e+01,  1.5000e+01, ...,  7.1600e+02,\n",
       "         2.5900e+02,  5.3409e+00]])"
      ]
     },
     "execution_count": 28,
     "metadata": {},
     "output_type": "execute_result"
    }
   ],
   "source": [
    "# shuffling and splitting, filling missing values with 0\n",
    "x_train, y_train, x_val, y_val, x_test, y_test = prepare_X_y(df = df, fill_na_with_mean = False, seed = 9)\n",
    "\n",
    "# combining train and val datasets\n",
    "x_train = np.concatenate((x_train, x_val))\n",
    "y_train = np.concatenate((y_train, y_val))\n",
    "\n",
    "x_train\n",
    "\n"
   ]
  },
  {
   "cell_type": "markdown",
   "metadata": {},
   "source": [
    "### Evaluating the model with test set"
   ]
  },
  {
   "cell_type": "code",
   "execution_count": 29,
   "metadata": {},
   "outputs": [
    {
     "data": {
      "text/plain": [
       "0.33"
      ]
     },
     "execution_count": 29,
     "metadata": {},
     "output_type": "execute_result"
    }
   ],
   "source": [
    "# training regularization\n",
    "w0, w = train_linear_regression(x_train, y_train, r = 0.001)\n",
    "\n",
    "# get predictions\n",
    "y_pred = w0 + x_test.dot(w)\n",
    "\n",
    "# test set error\n",
    "rmse_test = round(rmse(y_test, y_pred),2)\n",
    "\n",
    "rmse_test"
   ]
  }
 ],
 "metadata": {
  "kernelspec": {
   "display_name": "ml-zoomcamp",
   "language": "python",
   "name": "python3"
  },
  "language_info": {
   "codemirror_mode": {
    "name": "ipython",
    "version": 3
   },
   "file_extension": ".py",
   "mimetype": "text/x-python",
   "name": "python",
   "nbconvert_exporter": "python",
   "pygments_lexer": "ipython3",
   "version": "3.9.18"
  },
  "orig_nbformat": 4
 },
 "nbformat": 4,
 "nbformat_minor": 2
}
