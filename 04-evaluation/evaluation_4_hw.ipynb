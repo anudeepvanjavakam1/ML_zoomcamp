{
 "cells": [
  {
   "cell_type": "code",
   "execution_count": 137,
   "metadata": {},
   "outputs": [
    {
     "name": "stdout",
     "output_type": "stream",
     "text": [
      "Collecting tqdm\n",
      "  Obtaining dependency information for tqdm from https://files.pythonhosted.org/packages/00/e5/f12a80907d0884e6dff9c16d0c0114d81b8cd07dc3ae54c5e962cc83037e/tqdm-4.66.1-py3-none-any.whl.metadata\n",
      "  Downloading tqdm-4.66.1-py3-none-any.whl.metadata (57 kB)\n",
      "     ---------------------------------------- 0.0/57.6 kB ? eta -:--:--\n",
      "     ------- -------------------------------- 10.2/57.6 kB ? eta -:--:--\n",
      "     ------------- ------------------------ 20.5/57.6 kB 131.3 kB/s eta 0:00:01\n",
      "     -------------------- ----------------- 30.7/57.6 kB 163.8 kB/s eta 0:00:01\n",
      "     -------------------------------------- 57.6/57.6 kB 253.3 kB/s eta 0:00:00\n",
      "Requirement already satisfied: colorama in c:\\users\\avanjavakam\\.conda\\envs\\ml-zoomcamp\\lib\\site-packages (from tqdm) (0.4.6)\n",
      "Downloading tqdm-4.66.1-py3-none-any.whl (78 kB)\n",
      "   ---------------------------------------- 0.0/78.3 kB ? eta -:--:--\n",
      "   ------------------------------------ --- 71.7/78.3 kB 2.0 MB/s eta 0:00:01\n",
      "   ---------------------------------------- 78.3/78.3 kB 2.2 MB/s eta 0:00:00\n",
      "Installing collected packages: tqdm\n",
      "Successfully installed tqdm-4.66.1\n"
     ]
    },
    {
     "name": "stderr",
     "output_type": "stream",
     "text": [
      "ERROR: pip's dependency resolver does not currently take into account all the packages that are installed. This behaviour is the source of the following dependency conflicts.\n",
      "datasets 2.3.2 requires aiohttp, which is not installed.\n",
      "datasets 2.3.2 requires fsspec[http]>=2021.05.0, which is not installed.\n",
      "datasets 2.3.2 requires pyarrow>=6.0.0, which is not installed.\n",
      "huggingface-hub 0.14.1 requires filelock, which is not installed.\n",
      "huggingface-hub 0.14.1 requires fsspec, which is not installed.\n",
      "nltk 3.8.1 requires click, which is not installed.\n",
      "nltk 3.8.1 requires regex>=2021.8.3, which is not installed.\n",
      "pytorch-lightning 2.0.0 requires fsspec[http]>2021.06.0, which is not installed.\n"
     ]
    }
   ],
   "source": [
    "!pip install tqdm"
   ]
  },
  {
   "cell_type": "code",
   "execution_count": 202,
   "metadata": {},
   "outputs": [],
   "source": [
    "\n",
    "# loading libraries\n",
    "import numpy as np\n",
    "import pandas as pd\n",
    "import matplotlib.pyplot as plt\n",
    "import random\n",
    "from tqdm.auto import tqdm\n",
    "\n",
    "from sklearn.model_selection import train_test_split\n",
    "from sklearn.metrics import roc_auc_score, roc_curve, auc, precision_recall_curve\n",
    "from sklearn.feature_extraction import DictVectorizer\n",
    "from sklearn.linear_model import LogisticRegression\n",
    "from sklearn.model_selection import KFold\n"
   ]
  },
  {
   "cell_type": "code",
   "execution_count": 203,
   "metadata": {},
   "outputs": [
    {
     "data": {
      "text/html": [
       "<div>\n",
       "<style scoped>\n",
       "    .dataframe tbody tr th:only-of-type {\n",
       "        vertical-align: middle;\n",
       "    }\n",
       "\n",
       "    .dataframe tbody tr th {\n",
       "        vertical-align: top;\n",
       "    }\n",
       "\n",
       "    .dataframe thead th {\n",
       "        text-align: right;\n",
       "    }\n",
       "</style>\n",
       "<table border=\"1\" class=\"dataframe\">\n",
       "  <thead>\n",
       "    <tr style=\"text-align: right;\">\n",
       "      <th></th>\n",
       "      <th>Make</th>\n",
       "      <th>Model</th>\n",
       "      <th>Year</th>\n",
       "      <th>Engine HP</th>\n",
       "      <th>Engine Cylinders</th>\n",
       "      <th>Transmission Type</th>\n",
       "      <th>Vehicle Style</th>\n",
       "      <th>highway MPG</th>\n",
       "      <th>city mpg</th>\n",
       "      <th>MSRP</th>\n",
       "    </tr>\n",
       "  </thead>\n",
       "  <tbody>\n",
       "    <tr>\n",
       "      <th>0</th>\n",
       "      <td>BMW</td>\n",
       "      <td>1 Series M</td>\n",
       "      <td>2011</td>\n",
       "      <td>335.0</td>\n",
       "      <td>6.0</td>\n",
       "      <td>MANUAL</td>\n",
       "      <td>Coupe</td>\n",
       "      <td>26</td>\n",
       "      <td>19</td>\n",
       "      <td>46135</td>\n",
       "    </tr>\n",
       "    <tr>\n",
       "      <th>1</th>\n",
       "      <td>BMW</td>\n",
       "      <td>1 Series</td>\n",
       "      <td>2011</td>\n",
       "      <td>300.0</td>\n",
       "      <td>6.0</td>\n",
       "      <td>MANUAL</td>\n",
       "      <td>Convertible</td>\n",
       "      <td>28</td>\n",
       "      <td>19</td>\n",
       "      <td>40650</td>\n",
       "    </tr>\n",
       "    <tr>\n",
       "      <th>2</th>\n",
       "      <td>BMW</td>\n",
       "      <td>1 Series</td>\n",
       "      <td>2011</td>\n",
       "      <td>300.0</td>\n",
       "      <td>6.0</td>\n",
       "      <td>MANUAL</td>\n",
       "      <td>Coupe</td>\n",
       "      <td>28</td>\n",
       "      <td>20</td>\n",
       "      <td>36350</td>\n",
       "    </tr>\n",
       "    <tr>\n",
       "      <th>3</th>\n",
       "      <td>BMW</td>\n",
       "      <td>1 Series</td>\n",
       "      <td>2011</td>\n",
       "      <td>230.0</td>\n",
       "      <td>6.0</td>\n",
       "      <td>MANUAL</td>\n",
       "      <td>Coupe</td>\n",
       "      <td>28</td>\n",
       "      <td>18</td>\n",
       "      <td>29450</td>\n",
       "    </tr>\n",
       "    <tr>\n",
       "      <th>4</th>\n",
       "      <td>BMW</td>\n",
       "      <td>1 Series</td>\n",
       "      <td>2011</td>\n",
       "      <td>230.0</td>\n",
       "      <td>6.0</td>\n",
       "      <td>MANUAL</td>\n",
       "      <td>Convertible</td>\n",
       "      <td>28</td>\n",
       "      <td>18</td>\n",
       "      <td>34500</td>\n",
       "    </tr>\n",
       "  </tbody>\n",
       "</table>\n",
       "</div>"
      ],
      "text/plain": [
       "  Make       Model  Year  Engine HP  Engine Cylinders Transmission Type  \\\n",
       "0  BMW  1 Series M  2011      335.0               6.0            MANUAL   \n",
       "1  BMW    1 Series  2011      300.0               6.0            MANUAL   \n",
       "2  BMW    1 Series  2011      300.0               6.0            MANUAL   \n",
       "3  BMW    1 Series  2011      230.0               6.0            MANUAL   \n",
       "4  BMW    1 Series  2011      230.0               6.0            MANUAL   \n",
       "\n",
       "  Vehicle Style  highway MPG  city mpg   MSRP  \n",
       "0         Coupe           26        19  46135  \n",
       "1   Convertible           28        19  40650  \n",
       "2         Coupe           28        20  36350  \n",
       "3         Coupe           28        18  29450  \n",
       "4   Convertible           28        18  34500  "
      ]
     },
     "execution_count": 203,
     "metadata": {},
     "output_type": "execute_result"
    }
   ],
   "source": [
    "df = pd.read_csv(\"data.csv\")\n",
    "\n",
    "# selecting only required columns for the classification task\n",
    "df = df[['Make','Model', 'Year', 'Engine HP', 'Engine Cylinders', 'Transmission Type', 'Vehicle Style', 'highway MPG', 'city mpg', 'MSRP']]\n",
    "df.head()"
   ]
  },
  {
   "cell_type": "markdown",
   "metadata": {},
   "source": [
    "### Data Prep"
   ]
  },
  {
   "cell_type": "code",
   "execution_count": 204,
   "metadata": {},
   "outputs": [
    {
     "data": {
      "text/plain": [
       "make                  0\n",
       "model                 0\n",
       "year                  0\n",
       "engine_hp            69\n",
       "engine_cylinders     30\n",
       "transmission_type     0\n",
       "vehicle_style         0\n",
       "highway_mpg           0\n",
       "city_mpg              0\n",
       "msrp                  0\n",
       "dtype: int64"
      ]
     },
     "metadata": {},
     "output_type": "display_data"
    },
    {
     "data": {
      "text/plain": [
       "make                 0\n",
       "model                0\n",
       "year                 0\n",
       "engine_hp            0\n",
       "engine_cylinders     0\n",
       "transmission_type    0\n",
       "vehicle_style        0\n",
       "highway_mpg          0\n",
       "city_mpg             0\n",
       "msrp                 0\n",
       "dtype: int64"
      ]
     },
     "metadata": {},
     "output_type": "display_data"
    }
   ],
   "source": [
    "# cleaning column names\n",
    "df.columns = df.columns.str.lower().str.replace(\" \",\"_\")\n",
    "df.columns\n",
    "\n",
    "# filling missing values with 0\n",
    "display(df.isnull().sum())\n",
    "df.fillna(0, inplace=True)\n",
    "display(df.isnull().sum())"
   ]
  },
  {
   "cell_type": "code",
   "execution_count": 205,
   "metadata": {},
   "outputs": [
    {
     "data": {
      "text/plain": [
       "40594.737032063116"
      ]
     },
     "metadata": {},
     "output_type": "display_data"
    },
    {
     "data": {
      "text/html": [
       "<div>\n",
       "<style scoped>\n",
       "    .dataframe tbody tr th:only-of-type {\n",
       "        vertical-align: middle;\n",
       "    }\n",
       "\n",
       "    .dataframe tbody tr th {\n",
       "        vertical-align: top;\n",
       "    }\n",
       "\n",
       "    .dataframe thead th {\n",
       "        text-align: right;\n",
       "    }\n",
       "</style>\n",
       "<table border=\"1\" class=\"dataframe\">\n",
       "  <thead>\n",
       "    <tr style=\"text-align: right;\">\n",
       "      <th></th>\n",
       "      <th>make</th>\n",
       "      <th>model</th>\n",
       "      <th>year</th>\n",
       "      <th>engine_hp</th>\n",
       "      <th>engine_cylinders</th>\n",
       "      <th>transmission_type</th>\n",
       "      <th>vehicle_style</th>\n",
       "      <th>highway_mpg</th>\n",
       "      <th>city_mpg</th>\n",
       "      <th>above_average</th>\n",
       "    </tr>\n",
       "  </thead>\n",
       "  <tbody>\n",
       "    <tr>\n",
       "      <th>0</th>\n",
       "      <td>BMW</td>\n",
       "      <td>1 Series M</td>\n",
       "      <td>2011</td>\n",
       "      <td>335.0</td>\n",
       "      <td>6.0</td>\n",
       "      <td>MANUAL</td>\n",
       "      <td>Coupe</td>\n",
       "      <td>26</td>\n",
       "      <td>19</td>\n",
       "      <td>1</td>\n",
       "    </tr>\n",
       "    <tr>\n",
       "      <th>1</th>\n",
       "      <td>BMW</td>\n",
       "      <td>1 Series</td>\n",
       "      <td>2011</td>\n",
       "      <td>300.0</td>\n",
       "      <td>6.0</td>\n",
       "      <td>MANUAL</td>\n",
       "      <td>Convertible</td>\n",
       "      <td>28</td>\n",
       "      <td>19</td>\n",
       "      <td>1</td>\n",
       "    </tr>\n",
       "    <tr>\n",
       "      <th>2</th>\n",
       "      <td>BMW</td>\n",
       "      <td>1 Series</td>\n",
       "      <td>2011</td>\n",
       "      <td>300.0</td>\n",
       "      <td>6.0</td>\n",
       "      <td>MANUAL</td>\n",
       "      <td>Coupe</td>\n",
       "      <td>28</td>\n",
       "      <td>20</td>\n",
       "      <td>0</td>\n",
       "    </tr>\n",
       "    <tr>\n",
       "      <th>3</th>\n",
       "      <td>BMW</td>\n",
       "      <td>1 Series</td>\n",
       "      <td>2011</td>\n",
       "      <td>230.0</td>\n",
       "      <td>6.0</td>\n",
       "      <td>MANUAL</td>\n",
       "      <td>Coupe</td>\n",
       "      <td>28</td>\n",
       "      <td>18</td>\n",
       "      <td>0</td>\n",
       "    </tr>\n",
       "    <tr>\n",
       "      <th>4</th>\n",
       "      <td>BMW</td>\n",
       "      <td>1 Series</td>\n",
       "      <td>2011</td>\n",
       "      <td>230.0</td>\n",
       "      <td>6.0</td>\n",
       "      <td>MANUAL</td>\n",
       "      <td>Convertible</td>\n",
       "      <td>28</td>\n",
       "      <td>18</td>\n",
       "      <td>0</td>\n",
       "    </tr>\n",
       "  </tbody>\n",
       "</table>\n",
       "</div>"
      ],
      "text/plain": [
       "  make       model  year  engine_hp  engine_cylinders transmission_type  \\\n",
       "0  BMW  1 Series M  2011      335.0               6.0            MANUAL   \n",
       "1  BMW    1 Series  2011      300.0               6.0            MANUAL   \n",
       "2  BMW    1 Series  2011      300.0               6.0            MANUAL   \n",
       "3  BMW    1 Series  2011      230.0               6.0            MANUAL   \n",
       "4  BMW    1 Series  2011      230.0               6.0            MANUAL   \n",
       "\n",
       "  vehicle_style  highway_mpg  city_mpg  above_average  \n",
       "0         Coupe           26        19              1  \n",
       "1   Convertible           28        19              1  \n",
       "2         Coupe           28        20              0  \n",
       "3         Coupe           28        18              0  \n",
       "4   Convertible           28        18              0  "
      ]
     },
     "execution_count": 205,
     "metadata": {},
     "output_type": "execute_result"
    }
   ],
   "source": [
    "# converting the numerical target feature to a binary variable for classification task\n",
    "avg_price = df.msrp.mean()\n",
    "display(avg_price)\n",
    "df['above_average'] = df['msrp'].apply(lambda x: 1 if x > avg_price else 0)\n",
    "del df['msrp']\n",
    "df.head()"
   ]
  },
  {
   "cell_type": "markdown",
   "metadata": {},
   "source": [
    "### Validation framework\n"
   ]
  },
  {
   "cell_type": "code",
   "execution_count": 206,
   "metadata": {},
   "outputs": [
    {
     "data": {
      "text/plain": [
       "(7148, 2383, 2383)"
      ]
     },
     "execution_count": 206,
     "metadata": {},
     "output_type": "execute_result"
    }
   ],
   "source": [
    "# splitting data into train, val and test sets with 60%,20% and 20% data\n",
    "df_full_train, df_test = train_test_split(df, test_size=0.2, random_state=1)\n",
    "df_train, df_val = train_test_split(df_full_train, test_size=0.25, random_state=1)\n",
    "\n",
    "len(df_train), len(df_val), len(df_test)\n",
    "\n"
   ]
  },
  {
   "cell_type": "code",
   "execution_count": 207,
   "metadata": {},
   "outputs": [
    {
     "data": {
      "text/html": [
       "<div>\n",
       "<style scoped>\n",
       "    .dataframe tbody tr th:only-of-type {\n",
       "        vertical-align: middle;\n",
       "    }\n",
       "\n",
       "    .dataframe tbody tr th {\n",
       "        vertical-align: top;\n",
       "    }\n",
       "\n",
       "    .dataframe thead th {\n",
       "        text-align: right;\n",
       "    }\n",
       "</style>\n",
       "<table border=\"1\" class=\"dataframe\">\n",
       "  <thead>\n",
       "    <tr style=\"text-align: right;\">\n",
       "      <th></th>\n",
       "      <th>make</th>\n",
       "      <th>model</th>\n",
       "      <th>year</th>\n",
       "      <th>engine_hp</th>\n",
       "      <th>engine_cylinders</th>\n",
       "      <th>transmission_type</th>\n",
       "      <th>vehicle_style</th>\n",
       "      <th>highway_mpg</th>\n",
       "      <th>city_mpg</th>\n",
       "    </tr>\n",
       "  </thead>\n",
       "  <tbody>\n",
       "    <tr>\n",
       "      <th>5727</th>\n",
       "      <td>Toyota</td>\n",
       "      <td>Highlander Hybrid</td>\n",
       "      <td>2016</td>\n",
       "      <td>280.0</td>\n",
       "      <td>6.0</td>\n",
       "      <td>AUTOMATIC</td>\n",
       "      <td>4dr SUV</td>\n",
       "      <td>28</td>\n",
       "      <td>27</td>\n",
       "    </tr>\n",
       "    <tr>\n",
       "      <th>5814</th>\n",
       "      <td>Chevrolet</td>\n",
       "      <td>Impala Limited</td>\n",
       "      <td>2014</td>\n",
       "      <td>300.0</td>\n",
       "      <td>6.0</td>\n",
       "      <td>AUTOMATIC</td>\n",
       "      <td>Sedan</td>\n",
       "      <td>30</td>\n",
       "      <td>18</td>\n",
       "    </tr>\n",
       "    <tr>\n",
       "      <th>8450</th>\n",
       "      <td>Buick</td>\n",
       "      <td>Regal</td>\n",
       "      <td>2016</td>\n",
       "      <td>259.0</td>\n",
       "      <td>4.0</td>\n",
       "      <td>AUTOMATIC</td>\n",
       "      <td>Sedan</td>\n",
       "      <td>27</td>\n",
       "      <td>19</td>\n",
       "    </tr>\n",
       "    <tr>\n",
       "      <th>2396</th>\n",
       "      <td>Volkswagen</td>\n",
       "      <td>CC</td>\n",
       "      <td>2015</td>\n",
       "      <td>280.0</td>\n",
       "      <td>6.0</td>\n",
       "      <td>AUTOMATED_MANUAL</td>\n",
       "      <td>Sedan</td>\n",
       "      <td>25</td>\n",
       "      <td>17</td>\n",
       "    </tr>\n",
       "    <tr>\n",
       "      <th>5494</th>\n",
       "      <td>Dodge</td>\n",
       "      <td>Grand Caravan</td>\n",
       "      <td>2016</td>\n",
       "      <td>283.0</td>\n",
       "      <td>6.0</td>\n",
       "      <td>AUTOMATIC</td>\n",
       "      <td>Passenger Minivan</td>\n",
       "      <td>25</td>\n",
       "      <td>17</td>\n",
       "    </tr>\n",
       "  </tbody>\n",
       "</table>\n",
       "</div>"
      ],
      "text/plain": [
       "            make              model  year  engine_hp  engine_cylinders  \\\n",
       "5727      Toyota  Highlander Hybrid  2016      280.0               6.0   \n",
       "5814   Chevrolet     Impala Limited  2014      300.0               6.0   \n",
       "8450       Buick              Regal  2016      259.0               4.0   \n",
       "2396  Volkswagen                 CC  2015      280.0               6.0   \n",
       "5494       Dodge      Grand Caravan  2016      283.0               6.0   \n",
       "\n",
       "     transmission_type      vehicle_style  highway_mpg  city_mpg  \n",
       "5727         AUTOMATIC            4dr SUV           28        27  \n",
       "5814         AUTOMATIC              Sedan           30        18  \n",
       "8450         AUTOMATIC              Sedan           27        19  \n",
       "2396  AUTOMATED_MANUAL              Sedan           25        17  \n",
       "5494         AUTOMATIC  Passenger Minivan           25        17  "
      ]
     },
     "execution_count": 207,
     "metadata": {},
     "output_type": "execute_result"
    }
   ],
   "source": [
    "y_train = df_train.above_average.values\n",
    "y_val = df_val.above_average.values\n",
    "y_test = df_test.above_average.values\n",
    "\n",
    "del df_train['above_average']\n",
    "del df_val['above_average']\n",
    "del df_test['above_average']\n",
    "\n",
    "df_train.head()"
   ]
  },
  {
   "cell_type": "markdown",
   "metadata": {},
   "source": [
    "### ROC AUC Feature Importance\n",
    "ROC AUC could also be used to evaluate feature importance of numerical variables"
   ]
  },
  {
   "cell_type": "code",
   "execution_count": 208,
   "metadata": {},
   "outputs": [
    {
     "data": {
      "text/plain": [
       "{'year': 0.687551492804683,\n",
       " 'engine_hp': 0.9171031265539011,\n",
       " 'engine_cylinders': 0.766116490165669,\n",
       " 'highway_mpg': 0.6330587871772013,\n",
       " 'city_mpg': 0.6734244643245233}"
      ]
     },
     "execution_count": 208,
     "metadata": {},
     "output_type": "execute_result"
    }
   ],
   "source": [
    "numerical = ['year','engine_hp','engine_cylinders','highway_mpg','city_mpg']\n",
    "\n",
    "auc_score_dict = {}\n",
    "# For each numerical variable, use it as score and compute AUC with the above_average variable\n",
    "for col in numerical:\n",
    "    check_auc = roc_auc_score(y_train, df_train[col])\n",
    "    \n",
    "    # AUC can go below 0.5 if the variable is negatively correlated with the target varialble.\n",
    "    # You can change the direction of the correlation by negating this variable - then\n",
    "    # negative correlation becomes positive.\n",
    "    if check_auc < 0.5:\n",
    "        auc_score_dict[col] = roc_auc_score(y_train, -df_train[col])\n",
    "    else:\n",
    "        auc_score_dict[col] = check_auc\n",
    "    \n",
    "\n",
    "auc_score_dict"
   ]
  },
  {
   "cell_type": "markdown",
   "metadata": {},
   "source": [
    "engine_hp has highest auc score and high feature importance in predicting if a car has above_average price "
   ]
  },
  {
   "cell_type": "markdown",
   "metadata": {},
   "source": [
    "### Training the model - Logistic Regression"
   ]
  },
  {
   "cell_type": "code",
   "execution_count": 209,
   "metadata": {},
   "outputs": [],
   "source": [
    "# one hot encoding the categorical variables to use them for logistic regression\n",
    "dv = DictVectorizer(sparse=True)\n",
    "train_dict = df_train.to_dict(orient='records')\n",
    "X_train = dv.fit_transform(train_dict)\n",
    "\n",
    "val_dict = df_val.to_dict(orient='records')\n",
    "X_val = dv.transform(val_dict)\n"
   ]
  },
  {
   "cell_type": "code",
   "execution_count": 210,
   "metadata": {},
   "outputs": [
    {
     "data": {
      "text/html": [
       "<style>#sk-container-id-8 {color: black;}#sk-container-id-8 pre{padding: 0;}#sk-container-id-8 div.sk-toggleable {background-color: white;}#sk-container-id-8 label.sk-toggleable__label {cursor: pointer;display: block;width: 100%;margin-bottom: 0;padding: 0.3em;box-sizing: border-box;text-align: center;}#sk-container-id-8 label.sk-toggleable__label-arrow:before {content: \"▸\";float: left;margin-right: 0.25em;color: #696969;}#sk-container-id-8 label.sk-toggleable__label-arrow:hover:before {color: black;}#sk-container-id-8 div.sk-estimator:hover label.sk-toggleable__label-arrow:before {color: black;}#sk-container-id-8 div.sk-toggleable__content {max-height: 0;max-width: 0;overflow: hidden;text-align: left;background-color: #f0f8ff;}#sk-container-id-8 div.sk-toggleable__content pre {margin: 0.2em;color: black;border-radius: 0.25em;background-color: #f0f8ff;}#sk-container-id-8 input.sk-toggleable__control:checked~div.sk-toggleable__content {max-height: 200px;max-width: 100%;overflow: auto;}#sk-container-id-8 input.sk-toggleable__control:checked~label.sk-toggleable__label-arrow:before {content: \"▾\";}#sk-container-id-8 div.sk-estimator input.sk-toggleable__control:checked~label.sk-toggleable__label {background-color: #d4ebff;}#sk-container-id-8 div.sk-label input.sk-toggleable__control:checked~label.sk-toggleable__label {background-color: #d4ebff;}#sk-container-id-8 input.sk-hidden--visually {border: 0;clip: rect(1px 1px 1px 1px);clip: rect(1px, 1px, 1px, 1px);height: 1px;margin: -1px;overflow: hidden;padding: 0;position: absolute;width: 1px;}#sk-container-id-8 div.sk-estimator {font-family: monospace;background-color: #f0f8ff;border: 1px dotted black;border-radius: 0.25em;box-sizing: border-box;margin-bottom: 0.5em;}#sk-container-id-8 div.sk-estimator:hover {background-color: #d4ebff;}#sk-container-id-8 div.sk-parallel-item::after {content: \"\";width: 100%;border-bottom: 1px solid gray;flex-grow: 1;}#sk-container-id-8 div.sk-label:hover label.sk-toggleable__label {background-color: #d4ebff;}#sk-container-id-8 div.sk-serial::before {content: \"\";position: absolute;border-left: 1px solid gray;box-sizing: border-box;top: 0;bottom: 0;left: 50%;z-index: 0;}#sk-container-id-8 div.sk-serial {display: flex;flex-direction: column;align-items: center;background-color: white;padding-right: 0.2em;padding-left: 0.2em;position: relative;}#sk-container-id-8 div.sk-item {position: relative;z-index: 1;}#sk-container-id-8 div.sk-parallel {display: flex;align-items: stretch;justify-content: center;background-color: white;position: relative;}#sk-container-id-8 div.sk-item::before, #sk-container-id-8 div.sk-parallel-item::before {content: \"\";position: absolute;border-left: 1px solid gray;box-sizing: border-box;top: 0;bottom: 0;left: 50%;z-index: -1;}#sk-container-id-8 div.sk-parallel-item {display: flex;flex-direction: column;z-index: 1;position: relative;background-color: white;}#sk-container-id-8 div.sk-parallel-item:first-child::after {align-self: flex-end;width: 50%;}#sk-container-id-8 div.sk-parallel-item:last-child::after {align-self: flex-start;width: 50%;}#sk-container-id-8 div.sk-parallel-item:only-child::after {width: 0;}#sk-container-id-8 div.sk-dashed-wrapped {border: 1px dashed gray;margin: 0 0.4em 0.5em 0.4em;box-sizing: border-box;padding-bottom: 0.4em;background-color: white;}#sk-container-id-8 div.sk-label label {font-family: monospace;font-weight: bold;display: inline-block;line-height: 1.2em;}#sk-container-id-8 div.sk-label-container {text-align: center;}#sk-container-id-8 div.sk-container {/* jupyter's `normalize.less` sets `[hidden] { display: none; }` but bootstrap.min.css set `[hidden] { display: none !important; }` so we also need the `!important` here to be able to override the default hidden behavior on the sphinx rendered scikit-learn.org. See: https://github.com/scikit-learn/scikit-learn/issues/21755 */display: inline-block !important;position: relative;}#sk-container-id-8 div.sk-text-repr-fallback {display: none;}</style><div id=\"sk-container-id-8\" class=\"sk-top-container\"><div class=\"sk-text-repr-fallback\"><pre>LogisticRegression(max_iter=1000, solver=&#x27;liblinear&#x27;)</pre><b>In a Jupyter environment, please rerun this cell to show the HTML representation or trust the notebook. <br />On GitHub, the HTML representation is unable to render, please try loading this page with nbviewer.org.</b></div><div class=\"sk-container\" hidden><div class=\"sk-item\"><div class=\"sk-estimator sk-toggleable\"><input class=\"sk-toggleable__control sk-hidden--visually\" id=\"sk-estimator-id-8\" type=\"checkbox\" checked><label for=\"sk-estimator-id-8\" class=\"sk-toggleable__label sk-toggleable__label-arrow\">LogisticRegression</label><div class=\"sk-toggleable__content\"><pre>LogisticRegression(max_iter=1000, solver=&#x27;liblinear&#x27;)</pre></div></div></div></div></div>"
      ],
      "text/plain": [
       "LogisticRegression(max_iter=1000, solver='liblinear')"
      ]
     },
     "execution_count": 210,
     "metadata": {},
     "output_type": "execute_result"
    }
   ],
   "source": [
    "model = LogisticRegression(solver='liblinear', C=1.0, max_iter=1000)\n",
    "model.fit(X_train, y_train)"
   ]
  },
  {
   "cell_type": "code",
   "execution_count": 211,
   "metadata": {},
   "outputs": [],
   "source": [
    "y_pred = model.predict_proba(X_val)[:,1]"
   ]
  },
  {
   "cell_type": "markdown",
   "metadata": {},
   "source": [
    "### ROC - AUC"
   ]
  },
  {
   "cell_type": "code",
   "execution_count": 212,
   "metadata": {},
   "outputs": [
    {
     "data": {
      "text/plain": [
       "0.9802249094861359"
      ]
     },
     "execution_count": 212,
     "metadata": {},
     "output_type": "execute_result"
    }
   ],
   "source": [
    "\n",
    "roc_auc_score(y_val, y_pred)"
   ]
  },
  {
   "cell_type": "code",
   "execution_count": 213,
   "metadata": {},
   "outputs": [
    {
     "data": {
      "text/plain": [
       "0.9802249094861359"
      ]
     },
     "execution_count": 213,
     "metadata": {},
     "output_type": "execute_result"
    }
   ],
   "source": [
    "fpr, tpr, thresholds = roc_curve(y_val, y_pred)\n",
    "auc(fpr, tpr)"
   ]
  },
  {
   "cell_type": "code",
   "execution_count": 214,
   "metadata": {},
   "outputs": [
    {
     "data": {
      "text/plain": [
       "<matplotlib.legend.Legend at 0x1cb19cb9970>"
      ]
     },
     "execution_count": 214,
     "metadata": {},
     "output_type": "execute_result"
    },
    {
     "data": {
      "image/png": "[encoded data removed]",
      "text/plain": [
       "<Figure size 500x500 with 1 Axes>"
      ]
     },
     "metadata": {},
     "output_type": "display_data"
    }
   ],
   "source": [
    "plt.figure(figsize=(5, 5))\n",
    "\n",
    "plt.plot(fpr, tpr, label='Model')\n",
    "plt.plot([0, 1], [0, 1], label='Random', linestyle='--')\n",
    "\n",
    "plt.xlabel('FPR')\n",
    "plt.ylabel('TPR')\n",
    "\n",
    "plt.legend()"
   ]
  },
  {
   "cell_type": "code",
   "execution_count": 215,
   "metadata": {},
   "outputs": [
    {
     "data": {
      "text/plain": [
       "array([6.56867665e-01, 9.61672325e-01, 5.32582884e-01, 8.60206249e-01,\n",
       "       9.34277544e-01, 9.16902532e-01, 5.65034310e-01, 7.88608898e-01,\n",
       "       1.23876477e-01, 5.27834644e-01, 9.74127037e-01, 9.94628797e-01,\n",
       "       6.20541585e-01, 6.42102914e-01, 2.89893513e-01, 9.49981235e-01,\n",
       "       1.33668264e-01, 9.99301751e-01, 8.41042398e-01, 9.99818114e-01,\n",
       "       9.87540221e-01, 9.43130266e-01, 9.80919655e-01, 7.30816935e-01,\n",
       "       8.53954869e-01, 7.45582795e-01, 9.44842234e-01, 5.37943856e-01,\n",
       "       9.81029897e-01, 7.30816935e-01, 9.99936611e-01, 2.84670362e-01,\n",
       "       9.98830287e-01, 9.99424946e-01, 3.01624042e-01, 9.49492905e-01,\n",
       "       6.57340516e-01, 9.52497596e-01, 9.99931362e-01, 9.71247392e-01,\n",
       "       6.00769186e-01, 9.98862893e-01, 8.60915055e-01, 9.40204571e-01,\n",
       "       8.28052559e-01, 9.99928971e-01, 1.28553173e-01, 4.24828802e-01,\n",
       "       9.82767179e-01, 9.99206322e-01, 7.95768868e-01, 8.53615574e-01,\n",
       "       9.89854380e-01, 9.70193119e-01, 9.94005177e-01, 9.39267220e-01,\n",
       "       9.83741661e-01, 9.47077179e-01, 9.57915932e-01, 9.94565313e-01,\n",
       "       9.99939629e-01, 2.44080117e-01, 1.73354137e-01, 9.67898594e-01,\n",
       "       9.99921886e-01, 7.67043252e-01, 9.29984056e-01, 6.85753043e-01,\n",
       "       4.84479128e-01, 8.61168037e-01, 9.97501194e-01, 9.91355128e-01,\n",
       "       9.92642079e-01, 9.97272069e-01, 9.99948128e-01, 9.92598811e-01,\n",
       "       1.36763481e-01, 9.65079565e-01, 6.74191040e-01, 9.98243757e-01,\n",
       "       5.99351597e-01, 8.72066936e-01, 9.55439502e-01, 2.49586221e-01,\n",
       "       7.99450515e-01, 1.21756291e-01, 9.99965508e-01, 6.52090889e-02,\n",
       "       9.99945482e-01, 9.99952840e-01, 8.17398865e-01, 7.95240557e-01,\n",
       "       9.94186582e-01, 9.97054233e-01, 9.99954838e-01, 9.13495994e-01,\n",
       "       7.43513015e-01, 9.98873663e-01, 6.05641022e-01, 7.85330288e-01,\n",
       "       8.38939475e-01, 9.22525930e-01, 9.98862893e-01, 8.73874731e-01,\n",
       "       9.99658720e-01, 7.59469698e-01, 4.96382113e-01, 7.02201681e-01,\n",
       "       6.54199999e-01, 9.85920582e-01, 9.92328931e-01, 9.94635445e-01,\n",
       "       9.99325374e-01, 9.36968476e-01, 6.34702163e-01, 6.02185089e-01,\n",
       "       9.99957067e-01, 1.68103948e-01, 9.43658895e-01, 8.64668299e-01,\n",
       "       9.96908942e-01, 9.69849577e-01, 5.58102472e-01, 9.98699065e-01,\n",
       "       9.99044865e-01, 5.99351597e-01, 9.99944834e-01, 8.49570327e-01,\n",
       "       9.94005177e-01, 8.55587631e-01, 9.78884527e-01, 3.83052462e-01,\n",
       "       9.09178621e-01, 9.99297449e-01, 8.62215744e-01, 9.99930121e-01,\n",
       "       9.99191387e-01, 7.63304309e-01, 9.91533561e-01, 6.02185089e-01,\n",
       "       9.85347815e-01, 9.99939629e-01, 7.88244484e-01, 9.30321054e-01,\n",
       "       8.93633007e-01, 4.76808307e-01, 8.24086847e-01, 9.99934391e-01,\n",
       "       9.61889454e-01, 9.99176617e-01, 5.47400583e-01, 4.97523183e-01,\n",
       "       6.40069257e-01, 7.47817244e-01, 1.60433137e-04, 8.96558283e-01,\n",
       "       9.92078696e-01, 8.60915055e-01, 9.99990699e-01, 9.99970797e-01,\n",
       "       6.99725348e-01, 9.94968081e-01, 9.93633081e-01, 8.93633007e-01,\n",
       "       9.71750697e-01, 6.73150184e-01, 7.85134346e-01, 7.02496837e-01,\n",
       "       2.21287948e-01, 9.99926103e-01, 9.26965488e-01, 8.61620845e-01,\n",
       "       8.85086055e-02, 9.99457868e-01, 9.45318245e-01, 9.08046780e-01,\n",
       "       9.96678119e-01, 9.68178399e-01, 9.98289726e-01, 8.56275456e-01,\n",
       "       9.99702156e-01, 2.43667057e-01, 8.56275456e-01, 9.70040002e-01,\n",
       "       9.88317845e-01, 3.84449366e-01, 9.83768277e-01, 9.81031575e-01,\n",
       "       9.99993527e-01, 9.99970218e-01, 7.89971577e-01, 9.83434494e-01,\n",
       "       4.89858448e-01, 9.81669966e-01, 8.96558283e-01, 9.99992449e-01,\n",
       "       9.43541052e-01, 9.92893094e-01, 9.29564304e-01, 9.39822222e-01,\n",
       "       9.99934866e-01, 9.98016888e-01, 5.52015129e-01, 9.97536546e-01,\n",
       "       8.06204278e-01, 9.89177915e-01, 9.36968476e-01, 9.59788250e-01,\n",
       "       9.99727650e-01, 9.40155430e-01, 9.43027489e-01, 9.82898196e-01,\n",
       "       8.29497738e-01, 9.61140712e-01, 8.49047102e-01, 9.88348278e-01,\n",
       "       3.40043184e-01, 9.54338542e-01, 8.83872904e-01, 9.99975607e-01,\n",
       "       9.13495994e-01, 9.99873670e-01, 9.98795415e-01, 9.94603157e-01,\n",
       "       9.89604497e-01, 9.01362006e-01, 9.99992317e-01, 7.86872949e-01,\n",
       "       9.87734495e-01, 5.99351597e-01, 9.99989988e-01, 9.80770620e-01,\n",
       "       9.15908601e-01, 6.23752377e-01, 9.99791561e-01, 9.51152408e-01,\n",
       "       9.68081621e-01, 9.99931154e-01, 4.32802418e-04, 9.99642568e-01,\n",
       "       1.20136998e-01, 9.83911007e-01, 9.87473280e-01, 9.62940438e-01,\n",
       "       9.99176946e-01, 8.06439294e-01, 9.98858000e-01, 8.28296956e-01,\n",
       "       8.04776685e-01, 5.23083671e-01, 9.62650289e-01, 7.88608898e-01,\n",
       "       8.38139732e-01, 6.89690894e-01, 9.98773186e-01, 9.62105401e-01,\n",
       "       9.98289726e-01, 9.98823365e-01, 9.68706079e-01, 1.48760895e-01,\n",
       "       9.72365132e-01, 8.59425675e-01, 9.81775954e-01, 9.99995759e-01,\n",
       "       9.89913530e-01, 9.50521068e-01, 4.91334655e-01, 8.50323678e-01,\n",
       "       9.70208376e-01, 9.99914987e-01, 6.78369449e-01, 4.63571873e-01,\n",
       "       9.16954611e-01, 9.29984056e-01, 7.93334003e-01, 9.99989869e-01,\n",
       "       9.99944986e-01, 8.52104653e-01, 9.99926538e-01, 6.98003636e-01,\n",
       "       9.16582101e-01, 9.99926538e-01, 6.74162761e-01, 6.14909004e-01,\n",
       "       9.95765723e-01, 5.84949321e-01, 9.06288083e-01, 9.36292353e-01,\n",
       "       9.85838351e-01, 9.99978984e-01, 9.49616325e-01, 5.93155467e-01,\n",
       "       8.26841451e-01, 9.97965814e-01, 5.56645186e-01, 9.99935542e-01,\n",
       "       9.83530450e-01, 9.99955104e-01, 9.39583667e-01, 3.01624042e-01,\n",
       "       9.99992236e-01, 4.83536685e-01, 9.82090447e-01, 8.61620845e-01,\n",
       "       9.99225208e-01, 9.96728448e-01, 9.63884043e-01, 9.85464410e-01,\n",
       "       1.33372437e-02, 9.85807390e-01, 9.36292353e-01, 2.26738021e-01,\n",
       "       2.42991909e-01, 6.52363727e-01, 9.36426427e-01, 8.43550093e-01,\n",
       "       8.41042398e-01, 9.99531199e-01, 9.84988951e-01, 5.98473880e-01,\n",
       "       9.28146477e-01, 9.99926538e-01, 3.63311025e-01, 3.54592187e-02,\n",
       "       7.64447538e-01, 7.61652483e-01, 7.37126573e-01, 6.03981002e-01,\n",
       "       9.82898196e-01, 9.96728448e-01, 9.45761370e-01, 8.53499379e-01,\n",
       "       9.80939562e-01, 9.47254148e-01, 9.28622307e-01, 7.30229352e-01,\n",
       "       8.70539400e-01, 8.53499379e-01, 3.37397025e-01, 9.99396681e-01,\n",
       "       5.47400583e-01, 9.99809237e-01, 9.97501194e-01, 9.29564304e-01,\n",
       "       7.44696052e-01, 3.30556388e-01, 9.99176617e-01, 8.15476930e-01,\n",
       "       9.25212183e-01, 9.47372465e-01, 9.99944030e-01, 6.04769873e-02,\n",
       "       9.64542124e-01, 9.68526516e-01, 2.26471049e-01, 9.75322069e-01,\n",
       "       9.99931469e-01, 9.99926538e-01, 8.45434996e-01, 9.99930955e-01,\n",
       "       7.87622506e-01, 9.99818750e-01, 9.49981235e-01, 5.15564107e-01,\n",
       "       9.98866998e-01, 6.81854575e-01, 6.33116255e-01, 8.67919231e-01,\n",
       "       9.83309636e-01, 9.97592860e-01, 9.15501300e-01, 6.27017996e-01,\n",
       "       8.56191043e-01, 9.84219707e-01, 6.14909004e-01, 9.65278088e-01,\n",
       "       9.98876232e-01, 9.94040273e-01, 1.87929501e-01, 9.98413903e-01,\n",
       "       9.98291283e-01, 2.68239779e-01, 9.91202458e-01, 9.94597148e-01,\n",
       "       5.93790937e-01, 9.35939102e-01, 9.99990995e-01, 2.22604272e-01,\n",
       "       9.96281859e-01, 9.89484847e-01, 6.47695285e-01, 9.29564304e-01,\n",
       "       7.88262366e-01, 9.86425262e-01, 7.99278489e-01, 7.43128223e-01,\n",
       "       2.22307502e-01, 7.45817475e-01, 9.99863029e-01, 9.94666871e-01,\n",
       "       8.76499957e-01, 5.44953042e-01, 8.15876966e-01, 9.72735890e-01,\n",
       "       9.99926858e-01, 7.94300795e-01, 2.78109790e-01, 9.99966466e-01,\n",
       "       6.20883930e-02, 9.98869582e-01, 8.34673777e-01, 7.38269559e-01,\n",
       "       9.99058384e-01, 7.21742781e-01, 9.33930504e-01, 9.99974581e-01,\n",
       "       1.59178196e-01, 1.70111234e-01, 8.47430749e-01, 5.72762821e-01,\n",
       "       8.41830505e-01, 9.99991048e-01, 9.84830544e-01, 8.51134424e-01,\n",
       "       9.64743591e-01, 8.60137796e-01, 9.08766337e-01, 7.47817244e-01,\n",
       "       4.53329328e-01, 9.99713321e-01, 8.27685541e-01, 4.51361979e-01,\n",
       "       6.31743118e-01, 8.68352857e-02, 8.40150472e-01, 7.62197997e-01,\n",
       "       9.84898894e-01, 9.30321054e-01, 9.34476759e-01, 9.99644672e-01,\n",
       "       9.01183949e-01, 9.34476759e-01, 9.99997756e-01, 9.98115945e-01,\n",
       "       7.00984740e-01, 8.60875462e-01, 8.82607946e-01, 9.42556399e-01,\n",
       "       8.84692702e-01, 8.18519972e-01, 9.40137675e-01, 9.99779991e-01,\n",
       "       9.99993920e-01, 8.26841451e-01, 4.95897820e-01, 8.17398865e-01,\n",
       "       9.99809237e-01, 9.99992036e-01, 8.60206249e-01, 6.85766064e-01,\n",
       "       9.99731760e-01, 9.64743591e-01, 9.99995515e-01, 9.98795415e-01,\n",
       "       9.73367703e-01, 9.99989184e-01, 9.99660343e-01, 9.64302551e-01,\n",
       "       9.93969876e-01, 7.89591932e-01, 7.64925605e-01, 9.94765527e-01,\n",
       "       9.07562926e-01, 3.99578180e-01, 8.55546973e-01, 9.31596787e-01,\n",
       "       6.36070622e-01, 6.44423185e-01, 8.13084588e-01, 6.71849222e-01,\n",
       "       5.69869454e-01, 8.39736021e-01, 8.42768954e-01, 9.35102855e-01,\n",
       "       4.05885201e-01, 7.46197332e-01, 8.95809051e-01, 9.88964495e-01,\n",
       "       9.30702991e-01, 7.46701648e-01, 9.99582216e-01, 7.48762227e-01,\n",
       "       9.99196146e-01, 8.52104653e-01, 9.99977558e-01, 3.18951450e-01,\n",
       "       9.90300215e-01, 9.72317519e-01, 6.43824291e-01, 9.56982105e-01,\n",
       "       9.92893094e-01, 6.63407956e-01, 8.54856252e-01, 9.76654346e-01,\n",
       "       8.50029416e-01, 7.45466813e-01, 9.36025437e-01, 6.10981845e-01,\n",
       "       9.99926858e-01, 9.91483829e-01, 7.92363854e-01, 9.97189454e-01,\n",
       "       9.68264001e-01, 8.38295971e-01, 9.75322069e-01, 8.38139732e-01,\n",
       "       6.00769186e-01, 6.78369449e-01, 9.53482891e-01, 9.99873835e-01,\n",
       "       5.45209678e-01, 9.99795095e-01, 9.68081621e-01, 1.35374723e-01,\n",
       "       9.94628797e-01, 5.10068866e-01, 9.91868156e-01, 9.99926538e-01,\n",
       "       7.77870372e-01, 6.52402365e-01, 2.05698702e-01, 9.99856566e-01,\n",
       "       9.37589797e-01, 4.90417177e-01, 9.49699809e-01, 9.29661094e-01,\n",
       "       9.97530468e-01, 7.52486528e-01, 9.08046780e-01, 9.38581277e-01,\n",
       "       7.30881225e-01, 9.35939102e-01, 9.37243257e-01, 9.99976999e-01,\n",
       "       9.86864199e-01, 9.99443832e-01, 2.74345123e-01, 8.83260093e-01,\n",
       "       5.99351597e-01, 9.44529792e-01, 3.79881032e-01, 7.47392044e-01,\n",
       "       9.30046377e-01, 9.47277721e-01, 9.65079565e-01, 9.98864718e-01,\n",
       "       9.99626949e-01, 9.22340425e-01, 9.74052868e-01, 9.99856774e-01,\n",
       "       9.98691645e-01, 9.92938642e-01, 9.70327544e-01, 9.98955637e-01,\n",
       "       9.83309636e-01, 4.23453650e-01, 9.98423230e-01, 9.94220623e-01,\n",
       "       1.80876985e-01, 6.27017996e-01, 9.19106089e-01, 9.98732216e-01,\n",
       "       4.06478340e-01, 8.51134424e-01, 9.70193119e-01, 2.44080117e-01,\n",
       "       3.82667959e-01, 4.43133031e-01, 9.45761370e-01, 9.99982949e-01,\n",
       "       8.26197169e-01, 8.83667966e-01, 8.95486063e-01, 9.94628797e-01,\n",
       "       9.90915012e-01, 9.99196146e-01, 8.68543476e-01, 9.46520082e-01,\n",
       "       9.98644427e-01, 5.45318656e-01, 7.81665584e-02, 4.25721950e-01,\n",
       "       2.49586221e-01, 8.68543476e-01, 5.59608131e-01, 6.14879489e-01,\n",
       "       6.73532013e-01, 9.98477520e-01, 6.98003636e-01, 9.98775792e-01,\n",
       "       9.85287336e-01, 9.98726362e-01, 9.97633976e-01, 9.99240178e-01,\n",
       "       8.07933685e-01, 9.97805538e-01, 8.82398174e-01, 6.39280106e-01,\n",
       "       9.97515874e-01, 9.13404957e-01, 9.98869582e-01, 9.98154685e-01,\n",
       "       9.65272471e-01, 8.01035101e-01, 9.68884650e-01, 8.60915055e-01,\n",
       "       9.19593035e-01, 9.98864718e-01, 7.84051392e-01, 9.96282502e-01,\n",
       "       4.07904191e-01, 1.61470818e-01, 9.97501194e-01, 9.91518402e-01,\n",
       "       5.75819116e-01, 1.68931622e-01, 9.99999234e-01, 9.98698980e-01,\n",
       "       9.30321054e-01, 1.59970374e-01, 9.84898894e-01, 9.99865899e-01,\n",
       "       9.99616147e-01, 9.46502926e-01, 8.55755141e-01, 9.96090357e-01,\n",
       "       3.18951450e-01, 7.02245036e-01, 8.81729570e-01, 6.17303292e-01,\n",
       "       1.39975896e-01, 9.97462834e-01, 8.96009181e-01, 9.99931766e-01,\n",
       "       9.45761370e-01, 9.92112602e-01, 9.99600356e-01, 9.70403526e-01,\n",
       "       9.50261169e-01, 8.41624497e-01, 9.99293289e-01, 2.43169316e-01,\n",
       "       9.54338542e-01, 9.99988819e-01])"
      ]
     },
     "execution_count": 215,
     "metadata": {},
     "output_type": "execute_result"
    }
   ],
   "source": [
    "# predictions for negative class\n",
    "neg = y_pred[y_val == 0]\n",
    "\n",
    "# predictions for positive class\n",
    "pos = y_pred[y_val == 1]\n",
    "\n",
    "pos\n"
   ]
  },
  {
   "cell_type": "markdown",
   "metadata": {},
   "source": [
    "Alternative way of calculating ROC AUC score is calculating the probability of a randomly selected observation from a positive class having a higher score (model output probability) than the probability of a randomly selected observation from a negative class i.e., how well it separates positive examples from negative examples."
   ]
  },
  {
   "cell_type": "code",
   "execution_count": 216,
   "metadata": {},
   "outputs": [
    {
     "data": {
      "text/plain": [
       "0.97956"
      ]
     },
     "execution_count": 216,
     "metadata": {},
     "output_type": "execute_result"
    }
   ],
   "source": [
    "n = 50000\n",
    "\n",
    "np.random.seed(1)\n",
    "pos_ind = np.random.randint(0, len(pos), size=n)\n",
    "neg_ind = np.random.randint(0, len(neg), size=n)\n",
    "\n",
    "(pos[pos_ind] > neg[neg_ind]).mean()"
   ]
  },
  {
   "cell_type": "markdown",
   "metadata": {},
   "source": [
    "### Precision and Recall"
   ]
  },
  {
   "cell_type": "code",
   "execution_count": 217,
   "metadata": {},
   "outputs": [
    {
     "data": {
      "text/plain": [
       "array([0.27444398, 0.27455919, 0.27478992, ..., 1.        , 1.        ,\n",
       "       1.        ])"
      ]
     },
     "execution_count": 217,
     "metadata": {},
     "output_type": "execute_result"
    }
   ],
   "source": [
    "precision, recall, thresholds = precision_recall_curve(y_val, y_pred)\n",
    "precision\n"
   ]
  },
  {
   "cell_type": "code",
   "execution_count": 218,
   "metadata": {},
   "outputs": [],
   "source": [
    "def PR_curve_df(y_val, y_pred):\n",
    "    scores = []\n",
    "\n",
    "    # thresholds range 0 to 1 with 0.01 as step size\n",
    "    thresholds = np.linspace(0, 1, 101)\n",
    "\n",
    "    for t in thresholds:\n",
    "        actual_positive = (y_val==1)\n",
    "        actual_negative = (y_val==0)\n",
    "\n",
    "        predicted_positive = (y_pred >= t)\n",
    "        predicted_negative = (y_pred < t)\n",
    "\n",
    "        tp = (predicted_positive & actual_positive).sum()\n",
    "        tn = (predicted_negative & actual_negative).sum()\n",
    "\n",
    "        fp = (predicted_positive & actual_negative).sum()\n",
    "        fn = (predicted_negative & actual_positive).sum()\n",
    "\n",
    "        scores.append((t, tp, fp, fn, tn))\n",
    "\n",
    "    columns = ['threshold', 'tp', 'fp', 'fn', 'tn']\n",
    "    df_scores = pd.DataFrame(scores, columns=columns)\n",
    "\n",
    "    df_scores['recall'] = df_scores.tp / (df_scores.tp + df_scores.fn)\n",
    "    df_scores['precision'] = df_scores.tp / (df_scores.tp + df_scores.fp)\n",
    "\n",
    "    return df_scores\n",
    "\n",
    "\n"
   ]
  },
  {
   "cell_type": "code",
   "execution_count": 219,
   "metadata": {},
   "outputs": [
    {
     "data": {
      "text/html": [
       "<div>\n",
       "<style scoped>\n",
       "    .dataframe tbody tr th:only-of-type {\n",
       "        vertical-align: middle;\n",
       "    }\n",
       "\n",
       "    .dataframe tbody tr th {\n",
       "        vertical-align: top;\n",
       "    }\n",
       "\n",
       "    .dataframe thead th {\n",
       "        text-align: right;\n",
       "    }\n",
       "</style>\n",
       "<table border=\"1\" class=\"dataframe\">\n",
       "  <thead>\n",
       "    <tr style=\"text-align: right;\">\n",
       "      <th></th>\n",
       "      <th>threshold</th>\n",
       "      <th>tp</th>\n",
       "      <th>fp</th>\n",
       "      <th>fn</th>\n",
       "      <th>tn</th>\n",
       "      <th>recall</th>\n",
       "      <th>precision</th>\n",
       "      <th>diff</th>\n",
       "    </tr>\n",
       "  </thead>\n",
       "  <tbody>\n",
       "    <tr>\n",
       "      <th>49</th>\n",
       "      <td>0.49</td>\n",
       "      <td>581</td>\n",
       "      <td>72</td>\n",
       "      <td>73</td>\n",
       "      <td>1657</td>\n",
       "      <td>0.888379</td>\n",
       "      <td>0.889740</td>\n",
       "      <td>0.001360</td>\n",
       "    </tr>\n",
       "    <tr>\n",
       "      <th>48</th>\n",
       "      <td>0.48</td>\n",
       "      <td>584</td>\n",
       "      <td>76</td>\n",
       "      <td>70</td>\n",
       "      <td>1653</td>\n",
       "      <td>0.892966</td>\n",
       "      <td>0.884848</td>\n",
       "      <td>0.008118</td>\n",
       "    </tr>\n",
       "    <tr>\n",
       "      <th>47</th>\n",
       "      <td>0.47</td>\n",
       "      <td>585</td>\n",
       "      <td>78</td>\n",
       "      <td>69</td>\n",
       "      <td>1651</td>\n",
       "      <td>0.894495</td>\n",
       "      <td>0.882353</td>\n",
       "      <td>0.012142</td>\n",
       "    </tr>\n",
       "    <tr>\n",
       "      <th>50</th>\n",
       "      <td>0.50</td>\n",
       "      <td>576</td>\n",
       "      <td>69</td>\n",
       "      <td>78</td>\n",
       "      <td>1660</td>\n",
       "      <td>0.880734</td>\n",
       "      <td>0.893023</td>\n",
       "      <td>0.012289</td>\n",
       "    </tr>\n",
       "    <tr>\n",
       "      <th>46</th>\n",
       "      <td>0.46</td>\n",
       "      <td>586</td>\n",
       "      <td>79</td>\n",
       "      <td>68</td>\n",
       "      <td>1650</td>\n",
       "      <td>0.896024</td>\n",
       "      <td>0.881203</td>\n",
       "      <td>0.014821</td>\n",
       "    </tr>\n",
       "    <tr>\n",
       "      <th>...</th>\n",
       "      <td>...</td>\n",
       "      <td>...</td>\n",
       "      <td>...</td>\n",
       "      <td>...</td>\n",
       "      <td>...</td>\n",
       "      <td>...</td>\n",
       "      <td>...</td>\n",
       "      <td>...</td>\n",
       "    </tr>\n",
       "    <tr>\n",
       "      <th>97</th>\n",
       "      <td>0.97</td>\n",
       "      <td>252</td>\n",
       "      <td>1</td>\n",
       "      <td>402</td>\n",
       "      <td>1728</td>\n",
       "      <td>0.385321</td>\n",
       "      <td>0.996047</td>\n",
       "      <td>0.610726</td>\n",
       "    </tr>\n",
       "    <tr>\n",
       "      <th>98</th>\n",
       "      <td>0.98</td>\n",
       "      <td>234</td>\n",
       "      <td>0</td>\n",
       "      <td>420</td>\n",
       "      <td>1729</td>\n",
       "      <td>0.357798</td>\n",
       "      <td>1.000000</td>\n",
       "      <td>0.642202</td>\n",
       "    </tr>\n",
       "    <tr>\n",
       "      <th>99</th>\n",
       "      <td>0.99</td>\n",
       "      <td>192</td>\n",
       "      <td>0</td>\n",
       "      <td>462</td>\n",
       "      <td>1729</td>\n",
       "      <td>0.293578</td>\n",
       "      <td>1.000000</td>\n",
       "      <td>0.706422</td>\n",
       "    </tr>\n",
       "    <tr>\n",
       "      <th>0</th>\n",
       "      <td>0.00</td>\n",
       "      <td>654</td>\n",
       "      <td>1729</td>\n",
       "      <td>0</td>\n",
       "      <td>0</td>\n",
       "      <td>1.000000</td>\n",
       "      <td>0.274444</td>\n",
       "      <td>0.725556</td>\n",
       "    </tr>\n",
       "    <tr>\n",
       "      <th>100</th>\n",
       "      <td>1.00</td>\n",
       "      <td>0</td>\n",
       "      <td>0</td>\n",
       "      <td>654</td>\n",
       "      <td>1729</td>\n",
       "      <td>0.000000</td>\n",
       "      <td>NaN</td>\n",
       "      <td>NaN</td>\n",
       "    </tr>\n",
       "  </tbody>\n",
       "</table>\n",
       "<p>101 rows × 8 columns</p>\n",
       "</div>"
      ],
      "text/plain": [
       "     threshold   tp    fp   fn    tn    recall  precision      diff\n",
       "49        0.49  581    72   73  1657  0.888379   0.889740  0.001360\n",
       "48        0.48  584    76   70  1653  0.892966   0.884848  0.008118\n",
       "47        0.47  585    78   69  1651  0.894495   0.882353  0.012142\n",
       "50        0.50  576    69   78  1660  0.880734   0.893023  0.012289\n",
       "46        0.46  586    79   68  1650  0.896024   0.881203  0.014821\n",
       "..         ...  ...   ...  ...   ...       ...        ...       ...\n",
       "97        0.97  252     1  402  1728  0.385321   0.996047  0.610726\n",
       "98        0.98  234     0  420  1729  0.357798   1.000000  0.642202\n",
       "99        0.99  192     0  462  1729  0.293578   1.000000  0.706422\n",
       "0         0.00  654  1729    0     0  1.000000   0.274444  0.725556\n",
       "100       1.00    0     0  654  1729  0.000000        NaN       NaN\n",
       "\n",
       "[101 rows x 8 columns]"
      ]
     },
     "execution_count": 219,
     "metadata": {},
     "output_type": "execute_result"
    }
   ],
   "source": [
    "df_pr_curve = PR_curve_df(y_val, y_pred)\n",
    "df_pr_curve['diff'] = abs(df_pr_curve.precision - df_pr_curve.recall)\n",
    "\n",
    "df_pr_curve.sort_values(by='diff')\n",
    "\n"
   ]
  },
  {
   "cell_type": "markdown",
   "metadata": {},
   "source": [
    "At thresholds 0.48-0.49, precision and recall meet"
   ]
  },
  {
   "cell_type": "code",
   "execution_count": 220,
   "metadata": {},
   "outputs": [
    {
     "data": {
      "text/plain": [
       "<matplotlib.legend.Legend at 0x1cb170e8610>"
      ]
     },
     "execution_count": 220,
     "metadata": {},
     "output_type": "execute_result"
    },
    {
     "data": {
      "image/png": "[encoded data removed]",
      "text/plain": [
       "<Figure size 640x480 with 1 Axes>"
      ]
     },
     "metadata": {},
     "output_type": "display_data"
    }
   ],
   "source": [
    "plt.plot(df_pr_curve.threshold, df_pr_curve['precision'], label='Precision')\n",
    "plt.plot(df_pr_curve.threshold, df_pr_curve['recall'], label='Recall')\n",
    "plt.plot([0.49, 0.49], [0, 1], label='Intersection', linestyle='--')\n",
    "plt.legend()"
   ]
  },
  {
   "cell_type": "markdown",
   "metadata": {},
   "source": [
    "### F1 Score"
   ]
  },
  {
   "cell_type": "code",
   "execution_count": 221,
   "metadata": {},
   "outputs": [
    {
     "data": {
      "text/html": [
       "<div>\n",
       "<style scoped>\n",
       "    .dataframe tbody tr th:only-of-type {\n",
       "        vertical-align: middle;\n",
       "    }\n",
       "\n",
       "    .dataframe tbody tr th {\n",
       "        vertical-align: top;\n",
       "    }\n",
       "\n",
       "    .dataframe thead th {\n",
       "        text-align: right;\n",
       "    }\n",
       "</style>\n",
       "<table border=\"1\" class=\"dataframe\">\n",
       "  <thead>\n",
       "    <tr style=\"text-align: right;\">\n",
       "      <th></th>\n",
       "      <th>threshold</th>\n",
       "      <th>tp</th>\n",
       "      <th>fp</th>\n",
       "      <th>fn</th>\n",
       "      <th>tn</th>\n",
       "      <th>recall</th>\n",
       "      <th>precision</th>\n",
       "      <th>diff</th>\n",
       "      <th>f1_score</th>\n",
       "    </tr>\n",
       "  </thead>\n",
       "  <tbody>\n",
       "    <tr>\n",
       "      <th>51</th>\n",
       "      <td>0.51</td>\n",
       "      <td>576</td>\n",
       "      <td>64</td>\n",
       "      <td>78</td>\n",
       "      <td>1665</td>\n",
       "      <td>0.880734</td>\n",
       "      <td>0.900000</td>\n",
       "      <td>0.019266</td>\n",
       "      <td>0.890263</td>\n",
       "    </tr>\n",
       "    <tr>\n",
       "      <th>54</th>\n",
       "      <td>0.54</td>\n",
       "      <td>570</td>\n",
       "      <td>57</td>\n",
       "      <td>84</td>\n",
       "      <td>1672</td>\n",
       "      <td>0.871560</td>\n",
       "      <td>0.909091</td>\n",
       "      <td>0.037531</td>\n",
       "      <td>0.889930</td>\n",
       "    </tr>\n",
       "    <tr>\n",
       "      <th>53</th>\n",
       "      <td>0.53</td>\n",
       "      <td>572</td>\n",
       "      <td>60</td>\n",
       "      <td>82</td>\n",
       "      <td>1669</td>\n",
       "      <td>0.874618</td>\n",
       "      <td>0.905063</td>\n",
       "      <td>0.030446</td>\n",
       "      <td>0.889580</td>\n",
       "    </tr>\n",
       "    <tr>\n",
       "      <th>42</th>\n",
       "      <td>0.42</td>\n",
       "      <td>592</td>\n",
       "      <td>85</td>\n",
       "      <td>62</td>\n",
       "      <td>1644</td>\n",
       "      <td>0.905199</td>\n",
       "      <td>0.874446</td>\n",
       "      <td>0.030753</td>\n",
       "      <td>0.889557</td>\n",
       "    </tr>\n",
       "    <tr>\n",
       "      <th>40</th>\n",
       "      <td>0.40</td>\n",
       "      <td>595</td>\n",
       "      <td>89</td>\n",
       "      <td>59</td>\n",
       "      <td>1640</td>\n",
       "      <td>0.909786</td>\n",
       "      <td>0.869883</td>\n",
       "      <td>0.039903</td>\n",
       "      <td>0.889387</td>\n",
       "    </tr>\n",
       "    <tr>\n",
       "      <th>...</th>\n",
       "      <td>...</td>\n",
       "      <td>...</td>\n",
       "      <td>...</td>\n",
       "      <td>...</td>\n",
       "      <td>...</td>\n",
       "      <td>...</td>\n",
       "      <td>...</td>\n",
       "      <td>...</td>\n",
       "      <td>...</td>\n",
       "    </tr>\n",
       "    <tr>\n",
       "      <th>97</th>\n",
       "      <td>0.97</td>\n",
       "      <td>252</td>\n",
       "      <td>1</td>\n",
       "      <td>402</td>\n",
       "      <td>1728</td>\n",
       "      <td>0.385321</td>\n",
       "      <td>0.996047</td>\n",
       "      <td>0.610726</td>\n",
       "      <td>0.555678</td>\n",
       "    </tr>\n",
       "    <tr>\n",
       "      <th>98</th>\n",
       "      <td>0.98</td>\n",
       "      <td>234</td>\n",
       "      <td>0</td>\n",
       "      <td>420</td>\n",
       "      <td>1729</td>\n",
       "      <td>0.357798</td>\n",
       "      <td>1.000000</td>\n",
       "      <td>0.642202</td>\n",
       "      <td>0.527027</td>\n",
       "    </tr>\n",
       "    <tr>\n",
       "      <th>99</th>\n",
       "      <td>0.99</td>\n",
       "      <td>192</td>\n",
       "      <td>0</td>\n",
       "      <td>462</td>\n",
       "      <td>1729</td>\n",
       "      <td>0.293578</td>\n",
       "      <td>1.000000</td>\n",
       "      <td>0.706422</td>\n",
       "      <td>0.453901</td>\n",
       "    </tr>\n",
       "    <tr>\n",
       "      <th>0</th>\n",
       "      <td>0.00</td>\n",
       "      <td>654</td>\n",
       "      <td>1729</td>\n",
       "      <td>0</td>\n",
       "      <td>0</td>\n",
       "      <td>1.000000</td>\n",
       "      <td>0.274444</td>\n",
       "      <td>0.725556</td>\n",
       "      <td>0.430688</td>\n",
       "    </tr>\n",
       "    <tr>\n",
       "      <th>100</th>\n",
       "      <td>1.00</td>\n",
       "      <td>0</td>\n",
       "      <td>0</td>\n",
       "      <td>654</td>\n",
       "      <td>1729</td>\n",
       "      <td>0.000000</td>\n",
       "      <td>NaN</td>\n",
       "      <td>NaN</td>\n",
       "      <td>NaN</td>\n",
       "    </tr>\n",
       "  </tbody>\n",
       "</table>\n",
       "<p>101 rows × 9 columns</p>\n",
       "</div>"
      ],
      "text/plain": [
       "     threshold   tp    fp   fn    tn    recall  precision      diff  f1_score\n",
       "51        0.51  576    64   78  1665  0.880734   0.900000  0.019266  0.890263\n",
       "54        0.54  570    57   84  1672  0.871560   0.909091  0.037531  0.889930\n",
       "53        0.53  572    60   82  1669  0.874618   0.905063  0.030446  0.889580\n",
       "42        0.42  592    85   62  1644  0.905199   0.874446  0.030753  0.889557\n",
       "40        0.40  595    89   59  1640  0.909786   0.869883  0.039903  0.889387\n",
       "..         ...  ...   ...  ...   ...       ...        ...       ...       ...\n",
       "97        0.97  252     1  402  1728  0.385321   0.996047  0.610726  0.555678\n",
       "98        0.98  234     0  420  1729  0.357798   1.000000  0.642202  0.527027\n",
       "99        0.99  192     0  462  1729  0.293578   1.000000  0.706422  0.453901\n",
       "0         0.00  654  1729    0     0  1.000000   0.274444  0.725556  0.430688\n",
       "100       1.00    0     0  654  1729  0.000000        NaN       NaN       NaN\n",
       "\n",
       "[101 rows x 9 columns]"
      ]
     },
     "execution_count": 221,
     "metadata": {},
     "output_type": "execute_result"
    }
   ],
   "source": [
    "df_pr_curve['f1_score'] = (2*df_pr_curve['precision']*df_pr_curve['recall'])/(df_pr_curve['precision']+df_pr_curve['recall'])\n",
    "df_pr_curve.sort_values(by='f1_score', ascending=False)"
   ]
  },
  {
   "cell_type": "code",
   "execution_count": 243,
   "metadata": {},
   "outputs": [],
   "source": [
    "# creating train function\n",
    "def train(df_train, y_train, C=1.0):\n",
    "    \n",
    "    dicts = df_train.to_dict(orient='records')\n",
    "\n",
    "    dv = DictVectorizer(sparse=False)\n",
    "    X_train = dv.fit_transform(dicts)\n",
    "\n",
    "    # Logistic regression with default regularization C=1.0\n",
    "    model = LogisticRegression(solver='liblinear', C=C, max_iter=1000)\n",
    "    model.fit(X_train, y_train)\n",
    "\n",
    "    return dv, model"
   ]
  },
  {
   "cell_type": "code",
   "execution_count": 244,
   "metadata": {},
   "outputs": [],
   "source": [
    "# creating predict function\n",
    "def predict(df, dv, model):\n",
    "    \n",
    "    dicts = df.to_dict(orient='records')\n",
    "\n",
    "    X = dv.transform(dicts)\n",
    "\n",
    "    y_pred = model.predict_proba(X)[:,1]\n",
    "\n",
    "    return y_pred"
   ]
  },
  {
   "cell_type": "markdown",
   "metadata": {},
   "source": [
    "### K Fold Cross Validation"
   ]
  },
  {
   "cell_type": "code",
   "execution_count": 245,
   "metadata": {},
   "outputs": [],
   "source": [
    "n_splits = 5\n",
    "\n",
    "#initializing K Fold\n",
    "kfold = KFold(n_splits=n_splits, shuffle=True, random_state=1)\n",
    "scores = []\n",
    "\n",
    "for train_idx, val_idx in kfold.split(df_full_train):\n",
    "    df_train = df_full_train.iloc[train_idx]\n",
    "    df_val = df_full_train.iloc[val_idx]\n",
    "\n",
    "    y_train = df_train.above_average.values\n",
    "    y_val = df_val.above_average.values\n",
    "\n",
    "    del df_train['above_average']\n",
    "    del df_val['above_average']\n",
    "    \n",
    "    dv, model = train(df_train, y_train)\n",
    "    y_pred = predict(df_val, dv, model)\n",
    "    \n",
    "    auc = roc_auc_score(y_val, y_pred)\n",
    "    scores.append(auc)"
   ]
  },
  {
   "cell_type": "code",
   "execution_count": 246,
   "metadata": {},
   "outputs": [
    {
     "data": {
      "text/plain": [
       "[0.9784891235596622,\n",
       " 0.9798043937194881,\n",
       " 0.9830921309464058,\n",
       " 0.9772656293569796,\n",
       " 0.9776792651792652]"
      ]
     },
     "execution_count": 246,
     "metadata": {},
     "output_type": "execute_result"
    }
   ],
   "source": [
    "scores"
   ]
  },
  {
   "cell_type": "code",
   "execution_count": 247,
   "metadata": {},
   "outputs": [
    {
     "data": {
      "text/plain": [
       "(0.979, 0.002)"
      ]
     },
     "execution_count": 247,
     "metadata": {},
     "output_type": "execute_result"
    }
   ],
   "source": [
    "round(np.mean(scores),3), round(np.std(scores),3)"
   ]
  },
  {
   "cell_type": "markdown",
   "metadata": {},
   "source": [
    "Standard deviation across the folds is very less (0.002) and the average AUC score is 0.979"
   ]
  },
  {
   "cell_type": "markdown",
   "metadata": {},
   "source": [
    "### Hyperparameter Tuning"
   ]
  },
  {
   "cell_type": "code",
   "execution_count": 253,
   "metadata": {},
   "outputs": [
    {
     "data": {
      "application/vnd.jupyter.widget-view+json": {
       "model_id": "b625ff5a43634f9a9c9e8ef1d350443b",
       "version_major": 2,
       "version_minor": 0
      },
      "text/plain": [
       "  0%|          | 0/4 [00:00<?, ?it/s]"
      ]
     },
     "metadata": {},
     "output_type": "display_data"
    },
    {
     "data": {
      "text/plain": [
       "{0.01: [0.952, 0.002],\n",
       " 0.1: [0.972, 0.002],\n",
       " 0.5: [0.978, 0.003],\n",
       " 10: [0.984, 0.003]}"
      ]
     },
     "execution_count": 253,
     "metadata": {},
     "output_type": "execute_result"
    }
   ],
   "source": [
    "# regulariztion strength for logistic regression. Higher C value = Low regulariztion strength.\n",
    "C_choices = [0.01, 0.1, 0.5, 10]\n",
    "results = {}\n",
    "for C in tqdm(C_choices):\n",
    "    kfold = KFold(n_splits=n_splits, shuffle=True, random_state=1)\n",
    "    scores = []\n",
    "    \n",
    "\n",
    "    for train_idx, val_idx in kfold.split(df_full_train):\n",
    "        df_train = df_full_train.iloc[train_idx]\n",
    "        df_val = df_full_train.iloc[val_idx]\n",
    "\n",
    "        y_train = df_train.above_average.values\n",
    "        y_val = df_val.above_average.values\n",
    "\n",
    "        del df_train['above_average']\n",
    "        del df_val['above_average']\n",
    "        \n",
    "        dv, model = train(df_train, y_train, C=C)\n",
    "        y_pred = predict(df_val, dv, model)\n",
    "        \n",
    "        auc = roc_auc_score(y_val, y_pred)\n",
    "        scores.append(auc)\n",
    "            \n",
    "    results[C] = [round(np.mean(scores),3), round(np.std(scores),3)]\n",
    "\n",
    "results"
   ]
  }
 ],
 "metadata": {
  "kernelspec": {
   "display_name": "ml-zoomcamp",
   "language": "python",
   "name": "python3"
  },
  "language_info": {
   "codemirror_mode": {
    "name": "ipython",
    "version": 3
   },
   "file_extension": ".py",
   "mimetype": "text/x-python",
   "name": "python",
   "nbconvert_exporter": "python",
   "pygments_lexer": "ipython3",
   "version": "3.9.18"
  },
  "orig_nbformat": 4
 },
 "nbformat": 4,
 "nbformat_minor": 2
}
